{
 "cells": [
  {
   "cell_type": "code",
   "execution_count": null,
   "id": "b780f75d-27b0-45ba-b2ec-37fc688367c9",
   "metadata": {},
   "outputs": [],
   "source": [
    "from ipyleaflet import Map, LegendControl\n",
    "\n",
    "m = Map(center=(-10,-45), zoom=4)\n",
    "\n",
    "legend = LegendControl({\"low\":\"#FAA\", \"medium\":\"#A55\", \"High\":\"#500\"}, name=\"Legend\", position=\"bottomright\")\n",
    "m.add_control(legend)\n",
    "\n",
    "m"
   ]
  },
  {
   "cell_type": "code",
   "execution_count": null,
   "id": "d82060ab-1340-4fba-a70c-57c2c2bcc766",
   "metadata": {},
   "outputs": [],
   "source": []
  }
 ],
 "metadata": {
  "kernelspec": {
   "display_name": "Python 3 (ipykernel)",
   "language": "python",
   "name": "python3"
  },
  "language_info": {
   "codemirror_mode": {
    "name": "ipython",
    "version": 3
   },
   "file_extension": ".py",
   "mimetype": "text/x-python",
   "name": "python",
   "nbconvert_exporter": "python",
   "pygments_lexer": "ipython3",
   "version": "3.9.7"
  }
 },
 "nbformat": 4,
 "nbformat_minor": 5
}
