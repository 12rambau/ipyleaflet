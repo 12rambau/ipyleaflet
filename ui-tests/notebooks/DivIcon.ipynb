{
 "cells": [
  {
   "cell_type": "code",
   "execution_count": null,
   "id": "127cb16f-da76-4e86-98d5-47478b7b2709",
   "metadata": {},
   "outputs": [],
   "source": [
    "from ipyleaflet import Marker, DivIcon, Map\n",
    "\n",
    "center = (52.204793, 360.121558)\n",
    "\n",
    "m = Map(center=center, zoom=10)\n",
    "icon = DivIcon(html='foo bar', bg_pos=[0, 0], icon_size=[150, 150])\n",
    "mark = Marker(location=center, icon=icon)\n",
    "m.add_layer(mark);\n",
    "\n",
    "m"
   ]
  },
  {
   "cell_type": "code",
   "execution_count": null,
   "id": "e314f6c7-b36c-4021-ba13-caf49ade7111",
   "metadata": {},
   "outputs": [],
   "source": []
  },
  {
   "cell_type": "code",
   "execution_count": null,
   "id": "03c1de8d-b1bb-456d-aea6-0b2d22638909",
   "metadata": {},
   "outputs": [],
   "source": []
  }
 ],
 "metadata": {
  "kernelspec": {
   "display_name": "Python 3 (ipykernel)",
   "language": "python",
   "name": "python3"
  },
  "language_info": {
   "codemirror_mode": {
    "name": "ipython",
    "version": 3
   },
   "file_extension": ".py",
   "mimetype": "text/x-python",
   "name": "python",
   "nbconvert_exporter": "python",
   "pygments_lexer": "ipython3",
   "version": "3.9.7"
  }
 },
 "nbformat": 4,
 "nbformat_minor": 5
}
