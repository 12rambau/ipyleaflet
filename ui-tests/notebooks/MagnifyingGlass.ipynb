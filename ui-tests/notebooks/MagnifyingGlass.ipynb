{
 "cells": [
  {
   "cell_type": "code",
   "execution_count": null,
   "id": "01ae5f4a-a42a-4fd5-87a4-daaed6725184",
   "metadata": {},
   "outputs": [],
   "source": [
    "from ipyleaflet import Map, MagnifyingGlass, basemaps, basemap_to_tiles\n",
    "m = Map(center=(0, 0), zoom=2)\n",
    "\n",
    "topo_layer = basemap_to_tiles(basemaps.OpenTopoMap)\n",
    "magnifying_glass = MagnifyingGlass(layers=[topo_layer])\n",
    "\n",
    "m.add_layer(magnifying_glass)\n",
    "\n",
    "m"
   ]
  },
  {
   "cell_type": "code",
   "execution_count": null,
   "id": "a2222334-86e6-4d1c-9265-8d10b17b15df",
   "metadata": {},
   "outputs": [],
   "source": []
  }
 ],
 "metadata": {
  "kernelspec": {
   "display_name": "Python 3 (ipykernel)",
   "language": "python",
   "name": "python3"
  },
  "language_info": {
   "codemirror_mode": {
    "name": "ipython",
    "version": 3
   },
   "file_extension": ".py",
   "mimetype": "text/x-python",
   "name": "python",
   "nbconvert_exporter": "python",
   "pygments_lexer": "ipython3",
   "version": "3.9.7"
  }
 },
 "nbformat": 4,
 "nbformat_minor": 5
}
