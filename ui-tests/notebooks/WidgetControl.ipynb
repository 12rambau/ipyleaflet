{
 "cells": [
  {
   "cell_type": "code",
   "execution_count": null,
   "id": "80579053-d38c-4abf-af45-763fdac1fc44",
   "metadata": {},
   "outputs": [],
   "source": [
    "from ipyleaflet import Map, basemaps, WidgetControl\n",
    "from ipywidgets import IntSlider, ColorPicker, jslink\n",
    "\n",
    "m = Map(center=(46.01, 6.16), zoom=12)\n",
    "zoom_slider = IntSlider(description='Zoom level:', min=0, max=15, value=7)\n",
    "jslink((zoom_slider, 'value'), (m, 'zoom'))\n",
    "widget_control1 = WidgetControl(widget=zoom_slider, position='topright')\n",
    "m.add_control(widget_control1)\n",
    "\n",
    "color_picker = ColorPicker(description='Pick a color:')\n",
    "widget_control2 = WidgetControl(widget=color_picker, position='bottomright')\n",
    "m.add_control(widget_control2)\n",
    "m"
   ]
  },
  {
   "cell_type": "code",
   "execution_count": null,
   "id": "25f66144-6c1b-479f-aff7-cb5a01291d4f",
   "metadata": {},
   "outputs": [],
   "source": []
  }
 ],
 "metadata": {
  "kernelspec": {
   "display_name": "Python 3 (ipykernel)",
   "language": "python",
   "name": "python3"
  },
  "language_info": {
   "codemirror_mode": {
    "name": "ipython",
    "version": 3
   },
   "file_extension": ".py",
   "mimetype": "text/x-python",
   "name": "python",
   "nbconvert_exporter": "python",
   "pygments_lexer": "ipython3",
   "version": "3.9.7"
  }
 },
 "nbformat": 4,
 "nbformat_minor": 5
}
