{
 "cells": [
  {
   "cell_type": "code",
   "execution_count": null,
   "id": "a025fcc0-52a0-46cd-b987-9d9f0df48f2d",
   "metadata": {},
   "outputs": [],
   "source": [
    "from ipyleaflet import Map, FullScreenControl\n",
    "\n",
    "m = Map(zoom=5, center=[51.64, -76.52])\n",
    "m.add_control(FullScreenControl())\n",
    "\n",
    "m"
   ]
  },
  {
   "cell_type": "code",
   "execution_count": null,
   "id": "9df299bf-0646-482d-abb0-6dcca8edbf0e",
   "metadata": {},
   "outputs": [],
   "source": []
  }
 ],
 "metadata": {
  "kernelspec": {
   "display_name": "Python 3 (ipykernel)",
   "language": "python",
   "name": "python3"
  },
  "language_info": {
   "codemirror_mode": {
    "name": "ipython",
    "version": 3
   },
   "file_extension": ".py",
   "mimetype": "text/x-python",
   "name": "python",
   "nbconvert_exporter": "python",
   "pygments_lexer": "ipython3",
   "version": "3.9.7"
  }
 },
 "nbformat": 4,
 "nbformat_minor": 5
}
