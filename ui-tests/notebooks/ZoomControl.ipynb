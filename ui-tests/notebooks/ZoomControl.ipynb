{
 "cells": [
  {
   "cell_type": "code",
   "execution_count": null,
   "id": "65f48e12-de51-41e7-b62f-adc4ed53e59c",
   "metadata": {},
   "outputs": [],
   "source": [
    "from ipyleaflet import Map, ZoomControl\n",
    "\n",
    "m = Map(zoom=5, center=[51.64, -76.52], zoom_control=False)  # Do not automatically create a ZoomControl\n",
    "m.add_control(ZoomControl(position='topright'))\n",
    "\n",
    "m"
   ]
  },
  {
   "cell_type": "code",
   "execution_count": null,
   "id": "ac456fa6-6c02-441e-ad2c-7a84a073fafd",
   "metadata": {},
   "outputs": [],
   "source": []
  }
 ],
 "metadata": {
  "kernelspec": {
   "display_name": "Python 3 (ipykernel)",
   "language": "python",
   "name": "python3"
  },
  "language_info": {
   "codemirror_mode": {
    "name": "ipython",
    "version": 3
   },
   "file_extension": ".py",
   "mimetype": "text/x-python",
   "name": "python",
   "nbconvert_exporter": "python",
   "pygments_lexer": "ipython3",
   "version": "3.9.7"
  }
 },
 "nbformat": 4,
 "nbformat_minor": 5
}
