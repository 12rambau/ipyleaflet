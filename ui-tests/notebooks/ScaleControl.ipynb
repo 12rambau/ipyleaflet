{
 "cells": [
  {
   "cell_type": "code",
   "execution_count": null,
   "id": "624a023f-c836-4477-bfd4-82776f26dbf3",
   "metadata": {},
   "outputs": [],
   "source": [
    "from ipyleaflet import Map, ScaleControl\n",
    "\n",
    "m = Map(zoom=5, center=[51.64, -76.52])\n",
    "m.add_control(ScaleControl(position='bottomleft'))\n",
    "\n",
    "m"
   ]
  },
  {
   "cell_type": "code",
   "execution_count": null,
   "id": "9e4350f2-01d7-4f44-8ad9-b4e31a7ebd10",
   "metadata": {},
   "outputs": [],
   "source": []
  }
 ],
 "metadata": {
  "kernelspec": {
   "display_name": "Python 3 (ipykernel)",
   "language": "python",
   "name": "python3"
  },
  "language_info": {
   "codemirror_mode": {
    "name": "ipython",
    "version": 3
   },
   "file_extension": ".py",
   "mimetype": "text/x-python",
   "name": "python",
   "nbconvert_exporter": "python",
   "pygments_lexer": "ipython3",
   "version": "3.9.7"
  }
 },
 "nbformat": 4,
 "nbformat_minor": 5
}
