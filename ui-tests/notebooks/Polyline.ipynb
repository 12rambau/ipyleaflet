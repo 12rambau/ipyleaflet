{
 "cells": [
  {
   "cell_type": "code",
   "execution_count": null,
   "id": "af738fd1-b0ab-416d-9747-19d97ced6653",
   "metadata": {},
   "outputs": [],
   "source": [
    "from ipyleaflet import Map, Polyline\n",
    "\n",
    "lines = Polyline(\n",
    "    locations=[\n",
    "        [[45.51, -122.68],\n",
    "         [37.77, -122.43],\n",
    "         [34.04, -118.2]],\n",
    "        [[40.78, -73.91],\n",
    "         [41.83, -87.62],\n",
    "         [32.76, -96.72]]\n",
    "    ],\n",
    "    color=\"green\" ,\n",
    "    fill=False\n",
    ")\n",
    "\n",
    "m = Map(center = (42.5, -41), zoom =2)\n",
    "m.add_layer(lines)\n",
    "m"
   ]
  },
  {
   "cell_type": "code",
   "execution_count": null,
   "id": "b45a26bb-68e9-4957-8253-9862a3545f7f",
   "metadata": {},
   "outputs": [],
   "source": []
  }
 ],
 "metadata": {
  "kernelspec": {
   "display_name": "Python 3 (ipykernel)",
   "language": "python",
   "name": "python3"
  },
  "language_info": {
   "codemirror_mode": {
    "name": "ipython",
    "version": 3
   },
   "file_extension": ".py",
   "mimetype": "text/x-python",
   "name": "python",
   "nbconvert_exporter": "python",
   "pygments_lexer": "ipython3",
   "version": "3.9.7"
  }
 },
 "nbformat": 4,
 "nbformat_minor": 5
}
