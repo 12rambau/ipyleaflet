{
 "cells": [
  {
   "cell_type": "code",
   "execution_count": null,
   "id": "6f74933e-291c-4696-b824-6b6d0123490d",
   "metadata": {},
   "outputs": [],
   "source": [
    "from ipyleaflet import Map, Marker, LayersControl\n",
    "\n",
    "m = Map(center=(50, 0), zoom=5)\n",
    "\n",
    "marker1 = Marker(name='marker1', location=(48, -2))\n",
    "marker2 = Marker(name='marker2', location=(50, 0))\n",
    "marker3 = Marker(name='marker3', location=(52, 2))\n",
    "m.add_layer(marker1)\n",
    "m.add_layer(marker2)\n",
    "m.add_layer(marker3)\n",
    "\n",
    "control = LayersControl(position='topright')\n",
    "m.add_control(control)\n",
    "\n",
    "m"
   ]
  },
  {
   "cell_type": "code",
   "execution_count": null,
   "id": "4a7a08dc-1cdb-4b52-b38f-6370aa07e2f9",
   "metadata": {},
   "outputs": [],
   "source": []
  }
 ],
 "metadata": {
  "kernelspec": {
   "display_name": "Python 3 (ipykernel)",
   "language": "python",
   "name": "python3"
  },
  "language_info": {
   "codemirror_mode": {
    "name": "ipython",
    "version": 3
   },
   "file_extension": ".py",
   "mimetype": "text/x-python",
   "name": "python",
   "nbconvert_exporter": "python",
   "pygments_lexer": "ipython3",
   "version": "3.9.7"
  }
 },
 "nbformat": 4,
 "nbformat_minor": 5
}
