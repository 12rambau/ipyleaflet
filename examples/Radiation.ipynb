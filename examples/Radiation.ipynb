{
 "cells": [
  {
   "cell_type": "code",
   "execution_count": null,
   "id": "43ef0082-9552-44e9-82d3-c1e27209d2c5",
   "metadata": {
    "tags": []
   },
   "outputs": [],
   "source": [
    "from ipyleaflet import Map, TileLayer, FullScreenControl, ScaleControl\n",
    "\n",
    "m = Map(center=(47, 2), zoom=5)\n",
    "\n",
    "radon = TileLayer(url='https://cartoradon.irsn.fr/static/r/{z}/{x}/{y}.png',\n",
    "                  tms=True, opacity=0.5)\n",
    "m.add_layer(radon)\n",
    "\n",
    "fullscreen = FullScreenControl()\n",
    "m.add_control(fullscreen)\n",
    "scalecontrol = ScaleControl(position='bottomleft')\n",
    "m.add_control(scalecontrol)\n",
    "m\n",
    "\n"
   ]
  },
  {
   "cell_type": "code",
   "execution_count": null,
   "id": "b6e75898-89cf-44e1-826a-11e7b4e9b427",
   "metadata": {
    "tags": []
   },
   "outputs": [],
   "source": []
  }
 ],
 "metadata": {
  "kernelspec": {
   "display_name": "Python 3 (ipykernel)",
   "language": "python",
   "name": "python3"
  },
  "language_info": {
   "codemirror_mode": {
    "name": "ipython",
    "version": 3
   },
   "file_extension": ".py",
   "mimetype": "text/x-python",
   "name": "python",
   "nbconvert_exporter": "python",
   "pygments_lexer": "ipython3",
   "version": "3.9.7"
  }
 },
 "nbformat": 4,
 "nbformat_minor": 5
}
