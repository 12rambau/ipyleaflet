{
 "cells": [
  {
   "cell_type": "code",
   "execution_count": 12,
   "id": "43ef0082-9552-44e9-82d3-c1e27209d2c5",
   "metadata": {
    "lines_to_next_cell": 2,
    "tags": []
   },
   "outputs": [
    {
     "data": {
      "application/vnd.jupyter.widget-view+json": {
       "model_id": "620b5ab499a04a69bf13d9bbe53f6907",
       "version_major": 2,
       "version_minor": 0
      },
      "text/plain": [
       "Map(center=[47, 2], controls=(AttributionControl(options=['position', 'prefix'], position='bottomright'), Zoom…"
      ]
     },
     "metadata": {},
     "output_type": "display_data"
    }
   ],
   "source": [
    "import json\n",
    "import requests\n",
    "import random\n",
    "from ipyleaflet import (\n",
    "    Map,\n",
    "    TileLayer,\n",
    "    FullScreenControl,\n",
    "    ScaleControl,\n",
    "    ZoomControl,\n",
    "    Marker,\n",
    "    SearchControl,\n",
    "    AwesomeIcon,\n",
    "    WidgetControl,\n",
    "    GeoJSON,\n",
    "    Popup,\n",
    ")\n",
    "from ipywidgets import IntSlider, ColorPicker, Button, link, HTML, jslink\n",
    "\n",
    "m = Map(center=(47, 2), zoom=5, zoom_control=False)\n",
    "\n",
    "# create Zoom_control\n",
    "m.add_control(ZoomControl(position=\"topleft\"))\n",
    "# create Scale_Control\n",
    "m.add_control(ScaleControl(position=\"bottomleft\"))\n",
    "# Create Full_Screen_Control\n",
    "m.add_control(FullScreenControl())\n",
    "\n",
    "\n",
    "zoom_slider = IntSlider(description=\"Zoom level:\", min=0, max=15, value=7)\n",
    "jslink((zoom_slider, \"value\"), (m, \"zoom\"))\n",
    "widget_control1 = WidgetControl(widget=zoom_slider, position=\"topright\")\n",
    "m.add_control(widget_control1)\n",
    "\n",
    "\n",
    "# Create a local Tile Layer concerning the irsn map\n",
    "radon = TileLayer(\n",
    "    url=\"https://cartoradon.irsn.fr/static/r/{z}/{x}/{y}.png\", tms=True, opacity=0.5\n",
    ")\n",
    "m.add_layer(radon)\n",
    "\n",
    "# Create a function get_data which fetch the datas from the irsn application\n",
    "def get_data():\n",
    "    r = requests.get(\n",
    "        \"https://cartoradon.irsn.fr/commune.py/communes/lonlat/{};{}\".format(lng, lat)\n",
    "    )\n",
    "    return r.json()\n",
    "\n",
    "\n",
    "# take a method on_interation providing Map object to obtain the coordinates\n",
    "def on_interaction(event, type, coordinates):\n",
    "\n",
    "    if type == \"click\":\n",
    "        data = get_data(coordinates[1], coordinates[0])\n",
    "\n",
    "        # Display geojson\n",
    "        geometry = data[\"geometry\"]\n",
    "        geojson = GeoJSON(\n",
    "            data=geometry,\n",
    "            style={\"opacity\": 1, \"dashArray\": \"9\", \"fillOpacity\": 0.1, \"weight\": 1},\n",
    "            hover_style={\"color\": \"white\", \"dashArray\": \"0\", \"fillOpacity\": 0.5},\n",
    "        )\n",
    "        m.add_layer(geojson)\n",
    "\n",
    "        # Create Popup\n",
    "        message1 = HTML()\n",
    "        dict_properties = data[\"properties\"]\n",
    "        get_name = dict_properties.get(\"name\")\n",
    "        get_class = dict_properties.get(\"classr\")\n",
    "        message1.value = \"Ville: {}, Classe : {}\".format(get_name, get_class)\n",
    "        popup = Popup(\n",
    "            location=coordinates,\n",
    "            child=message1,\n",
    "            close_button=True,\n",
    "            auto_close=True,\n",
    "            close_on_escape_key=False,\n",
    "        )\n",
    "        m.add_layer(popup)\n",
    "\n",
    "\n",
    "m.on_interaction(on_interaction)\n",
    "\n",
    "m"
   ]
  },
  {
   "cell_type": "code",
   "execution_count": null,
   "id": "b6e75898-89cf-44e1-826a-11e7b4e9b427",
   "metadata": {
    "tags": []
   },
   "outputs": [],
   "source": []
  },
  {
   "cell_type": "code",
   "execution_count": null,
   "id": "3312020d-cbd5-4f27-b9f0-845145da5811",
   "metadata": {},
   "outputs": [],
   "source": []
  }
 ],
 "metadata": {
  "kernelspec": {
   "display_name": "Python 3 (ipykernel)",
   "language": "python",
   "name": "python3"
  },
  "language_info": {
   "codemirror_mode": {
    "name": "ipython",
    "version": 3
   },
   "file_extension": ".py",
   "mimetype": "text/x-python",
   "name": "python",
   "nbconvert_exporter": "python",
   "pygments_lexer": "ipython3",
   "version": "3.10.0"
  }
 },
 "nbformat": 4,
 "nbformat_minor": 5
}
