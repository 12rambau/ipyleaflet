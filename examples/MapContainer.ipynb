{
 "metadata": {
  "name": "",
  "signature": "sha256:154426b5b4771ae5ad36f049439035101fb3cd8b34472c65a8859564bcb4b6fd"
 },
 "nbformat": 3,
 "nbformat_minor": 0,
 "worksheets": [
  {
   "cells": [
    {
     "cell_type": "code",
     "collapsed": false,
     "input": [
      "from leafletwidget import (\n",
      "    Map,\n",
      "    Marker,\n",
      "    TileLayer, ImageOverlay,\n",
      "    Polyline, Polygon, Rectangle, Circle, CircleMarker,\n",
      "    GeoJSON,\n",
      "    DrawControl\n",
      ")\n",
      "from leafletwidget import initialize_notebook"
     ],
     "language": "python",
     "metadata": {},
     "outputs": []
    },
    {
     "cell_type": "code",
     "collapsed": false,
     "input": [
      "from IPython.html import widgets\n",
      "from IPython.display import display"
     ],
     "language": "python",
     "metadata": {},
     "outputs": []
    },
    {
     "cell_type": "code",
     "collapsed": false,
     "input": [
      "initialize_notebook()"
     ],
     "language": "python",
     "metadata": {},
     "outputs": []
    }
   ],
   "metadata": {}
  }
 ]
}