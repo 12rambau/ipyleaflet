{
 "metadata": {
  "name": "",
  "signature": "sha256:bb497e86139872ce11952e474b1e4a66737de0a902ce716543db91f3f6c5fb0d"
 },
 "nbformat": 3,
 "nbformat_minor": 0,
 "worksheets": [
  {
   "cells": [
    {
     "cell_type": "code",
     "collapsed": false,
     "input": [
      "from leafletwidget import (\n",
      "    Map,\n",
      "    Marker,\n",
      "    TileLayer, ImageOverlay,\n",
      "    Polyline, Polygon, Rectangle, Circle, CircleMarker,\n",
      "    GeoJSON,\n",
      "    DrawControl\n",
      ")\n",
      "from leafletwidget import initialize_notebook"
     ],
     "language": "python",
     "metadata": {},
     "outputs": [],
     "prompt_number": 1
    },
    {
     "cell_type": "code",
     "collapsed": false,
     "input": [
      "from IPython.html impr\n",
      "from IPython.display import display"
     ],
     "language": "python",
     "metadata": {},
     "outputs": [],
     "prompt_number": 2
    },
    {
     "cell_type": "code",
     "collapsed": false,
     "input": [
      "initialize_notebook()"
     ],
     "language": "python",
     "metadata": {},
     "outputs": [
      {
       "html": [
        "<link rel=\"stylesheet\" href=\"//cdn.leafletjs.com/leaflet-0.7.2/leaflet.css\" />"
       ],
       "metadata": {},
       "output_type": "display_data",
       "text": [
        "<IPython.core.display.HTML object>"
       ]
      },
      {
       "html": [
        "<link rel=\"stylesheet\" href=\"//cdnjs.cloudflare.com/ajax/libs/leaflet.draw/0.2.3/leaflet.draw.css\" />"
       ],
       "metadata": {},
       "output_type": "display_data",
       "text": [
        "<IPython.core.display.HTML object>"
       ]
      },
      {
       "javascript": [
        "\n",
        "\n",
        "require.config({\n",
        "    paths: {\n",
        "        leaflet: \"http://cdn.leafletjs.com/leaflet-0.7.2/leaflet\",\n",
        "        leaflet_draw: \"http://cdnjs.cloudflare.com/ajax/libs/leaflet.draw/0.2.3/leaflet.draw\"\n",
        "    },\n",
        "    shim: {leaflet_draw: \"leaflet\"}\n",
        "});\n",
        "\n",
        "require([\"widgets/js/widget\", \"leaflet\", \"leaflet_draw\"], function(WidgetManager, L) {\n",
        "\n",
        "    function camel_case(input) {\n",
        "        // Convert from foo_bar to fooBar \n",
        "        return input.toLowerCase().replace(/_(.)/g, function(match, group1) {\n",
        "            return group1.toUpperCase();\n",
        "        });\n",
        "    }\n",
        "    \n",
        "    var LeafletLayerView = IPython.WidgetView.extend({\n",
        "        \n",
        "        initialize: function (parameters) {\n",
        "            console.log('Layer.initialize');\n",
        "            LeafletLayerView.__super__.initialize.apply(this, arguments);\n",
        "            // Remove this line after testing...\n",
        "            this.model.on('displayed', this.test_display, this);\n",
        "            this.map_view = this.options.map_view;\n",
        "        },\n",
        "    \n",
        "        // Remove this method after testing...\n",
        "        test_display: function () {\n",
        "            console.log('displayed!!!');\n",
        "        },\n",
        "    \n",
        "        render: function () {\n",
        "            console.log('options', this.get_options());\n",
        "            this.create_obj();\n",
        "        },\n",
        "    \n",
        "        get_options: function () {\n",
        "            var o = this.model.get('options');\n",
        "            var options = {};\n",
        "            var key;\n",
        "            for (var i=0; i<o.length; i++) {\n",
        "                key = o[i];\n",
        "                // Convert from foo_bar to fooBar that Leaflet.js uses\n",
        "                options[camel_case(key)] = this.model.get(key);\n",
        "            }\n",
        "            return options;\n",
        "        },\n",
        "    });\n",
        "    WidgetManager.register_widget_view('LeafletLayerView', LeafletLayerView);\n",
        "\n",
        "\n",
        "    // UILayer\n",
        "    var LeafletUILayerView = LeafletLayerView.extend({\n",
        "    });\n",
        "    WidgetManager.register_widget_view('LeafletUILayerView', LeafletUILayerView);\n",
        "    \n",
        "    \n",
        "    var LeafletMarkerView = LeafletUILayerView.extend({\n",
        "        \n",
        "        create_obj: function () {\n",
        "            this.obj = L.marker(\n",
        "                this.model.get('location'),\n",
        "                this.get_options()\n",
        "            );\n",
        "        },\n",
        "        \n",
        "    });\n",
        "    WidgetManager.register_widget_view('LeafletMarkerView', LeafletMarkerView);\n",
        "    \n",
        "    \n",
        "    var LeafletPopupView = LeafletUILayerView.extend({\n",
        "    });\n",
        "    WidgetManager.register_widget_view('LeafletPopupView', LeafletPopupView);\n",
        "    \n",
        "    \n",
        "    // RasterLayer\n",
        "    var LeafletRasterLayerView = LeafletLayerView.extend({\n",
        "    });\n",
        "    WidgetManager.register_widget_view('LeafletRasterLayerView', LeafletRasterLayerView);\n",
        "    \n",
        "    \n",
        "    var LeafletTileLayerView = LeafletRasterLayerView.extend({\n",
        "        \n",
        "        create_obj: function () {\n",
        "            this.obj = L.tileLayer(\n",
        "                this.model.get('url'),\n",
        "                this.get_options()\n",
        "            );\n",
        "        },\n",
        "        \n",
        "    });\n",
        "    WidgetManager.register_widget_view('LeafletTileLayerView', LeafletTileLayerView);\n",
        "    \n",
        "    \n",
        "    var LeafletImageOverlayView = LeafletRasterLayerView.extend({\n",
        "        \n",
        "        create_obj: function () {\n",
        "            this.obj = L.imageOverlay(\n",
        "                this.model.get('url'),\n",
        "                this.model.get('bounds'),\n",
        "                this.get_options()\n",
        "            );\n",
        "        },\n",
        "        \n",
        "    });\n",
        "    WidgetManager.register_widget_view('LeafletImageOverlayView', LeafletImageOverlayView);\n",
        "    \n",
        "    \n",
        "    // VectorLayer\n",
        "    var LeafletVectorLayerView = LeafletLayerView.extend({\n",
        "    });\n",
        "    WidgetManager.register_widget_view('LeafletVectorLayerView', LeafletVectorLayerView);\n",
        "    \n",
        "    \n",
        "    var LeafletPathView = LeafletVectorLayerView.extend({\n",
        "    });\n",
        "    WidgetManager.register_widget_view('LeafletPathView', LeafletPathView);\n",
        "    \n",
        "    \n",
        "    var LeafletPolylineView = LeafletPathView.extend({\n",
        "        \n",
        "        create_obj: function () {\n",
        "            this.obj = L.polyline(\n",
        "                this.model.get('locations'),\n",
        "                this.get_options()\n",
        "            );\n",
        "        },\n",
        "        \n",
        "    });\n",
        "    WidgetManager.register_widget_view('LeafletPolylineView', LeafletPolylineView);\n",
        "    \n",
        "    \n",
        "    var LeafletPolygonView = LeafletPolylineView.extend({\n",
        "    \n",
        "        create_obj: function () {\n",
        "            console.log('Polygon.create_obj', this.model.get('locations'));\n",
        "            this.obj = L.polygon(this.model.get('locations'), this.get_options());\n",
        "        },\n",
        "    \n",
        "    });\n",
        "    WidgetManager.register_widget_view('LeafletPolygonView', LeafletPolygonView);\n",
        "    \n",
        "    \n",
        "    var LeafletRectangleView = LeafletPolygonView.extend({\n",
        "        \n",
        "        create_obj: function () {\n",
        "            console.log('Rectangle',this.model.get('bounds'), this.get_options());\n",
        "            this.obj = L.rectangle(\n",
        "                this.model.get('bounds'),\n",
        "                this.get_options()\n",
        "            );\n",
        "        },\n",
        "\n",
        "    });\n",
        "    WidgetManager.register_widget_view('LeafletRectangleView', LeafletRectangleView);\n",
        "    \n",
        "    \n",
        "    var LeafletCircleView = LeafletPathView.extend({\n",
        "        \n",
        "        create_obj: function () {\n",
        "            console.log('Circle.create_obj', this.model.get('location'));\n",
        "            this.obj = L.circle(\n",
        "                this.model.get('location'), this.model.get('radius'),\n",
        "                this.get_options()\n",
        "            );\n",
        "        },\n",
        "    \n",
        "    });\n",
        "    WidgetManager.register_widget_view('LeafletCircleView', LeafletCircleView);\n",
        "    \n",
        "    \n",
        "    var LeafletCircleMarkerView = LeafletCircleView.extend({\n",
        "    \n",
        "        create_obj: function () {\n",
        "            this.obj = L.circleMarker(\n",
        "                this.model.get('location'), this.model.get('radius'),\n",
        "                this.get_options()\n",
        "            );\n",
        "        },\n",
        "    \n",
        "    });\n",
        "    WidgetManager.register_widget_view('LeafletCircleMarkerView', LeafletCircleMarkerView);\n",
        "    \n",
        "    \n",
        "    // LayerGroup\n",
        "    var LeafletLayerGroupView = LeafletLayerView.extend({\n",
        "        \n",
        "        create_obj: function () {\n",
        "            this.obj = L.layerGroup();\n",
        "        },\n",
        "        \n",
        "    });\n",
        "    WidgetManager.register_widget_view('LeafletLayerGroupView', LeafletLayerGroupView);\n",
        "    \n",
        "    \n",
        "    var LeafletFeatureGroupView = LeafletLayerGroupView.extend({\n",
        "        \n",
        "        create_obj: function () {\n",
        "            this.obj = L.featureGroup();\n",
        "        },\n",
        "        \n",
        "    });\n",
        "    WidgetManager.register_widget_view('LeafletFeatureGroupView', LeafletFeatureGroupView);\n",
        "    \n",
        "    \n",
        "    var LeafletMultiPolylineView = LeafletFeatureGroupView.extend({\n",
        "    });\n",
        "    WidgetManager.register_widget_view('LeafletMultiPolylineView', LeafletMultiPolylineView);\n",
        "    \n",
        "    \n",
        "    var LeafletGeoJSONView = LeafletFeatureGroupView.extend({\n",
        "    \n",
        "        create_obj: function () {\n",
        "            var style = this.model.get('style');\n",
        "            if ($.isEmptyObject(style)) {\n",
        "                style = function (feature) {\n",
        "                    console.log(feature.properties.style);\n",
        "                    return feature.properties.style;\n",
        "                } \n",
        "            }\n",
        "            this.obj = L.geoJson(this.model.get('data'), {style: style});\n",
        "        },\n",
        "    });\n",
        "    WidgetManager.register_widget_view('LeafletGeoJSONView', LeafletGeoJSONView);\n",
        "\n",
        "\n",
        "    var LeafletMultiPolygonView = LeafletFeatureGroupView.extend({\n",
        "    });\n",
        "    WidgetManager.register_widget_view('LeafletMultiPolygonView', LeafletMultiPolygonView);\n",
        "\n",
        "\n",
        "    var LeafletControlView = IPython.WidgetView.extend({\n",
        "        \n",
        "        initialize: function (parameters) {\n",
        "            console.log('Control.initialize');\n",
        "            LeafletControlView.__super__.initialize.apply(this, arguments);\n",
        "            this.map_view = this.options.map_view;\n",
        "        },\n",
        "\n",
        "    });\n",
        "    WidgetManager.register_widget_view('LeafletControlView', LeafletControlView);\n",
        "\n",
        "\n",
        "    var LeafletDrawControlView = LeafletControlView.extend({\n",
        "        \n",
        "        initialize: function (parameters) {\n",
        "            console.log('Draw.initialize');\n",
        "            LeafletDrawControlView.__super__.initialize.apply(this, arguments);\n",
        "            this.map_view = this.options.map_view;\n",
        "        },\n",
        "\n",
        "        render: function () {\n",
        "            this.layer_view = this.create_child_view(this.model.get('layer'), {map_view: this.map_view});\n",
        "            this.map_view.obj.addLayer(this.layer_view.obj);\n",
        "            this.create_obj();\n",
        "        },\n",
        "        \n",
        "        create_obj: function () {\n",
        "            var that = this;\n",
        "            var polyline = this.model.get('polyline');\n",
        "            if ($.isEmptyObject(polyline)) {polyline=false;}\n",
        "            var polygon = this.model.get('polygon');\n",
        "            if ($.isEmptyObject(polygon)) {polygon=false;}\n",
        "            var circle = this.model.get('circle');\n",
        "            if ($.isEmptyObject(circle)) {circle=false;}\n",
        "            var rectangle = this.model.get('rectangle');\n",
        "            if ($.isEmptyObject(rectangle)) {rectangle=false;}\n",
        "            var marker = this.model.get('marker');\n",
        "            if ($.isEmptyObject(marker)) {marker=false;}\n",
        "            this.obj = new L.Control.Draw({\n",
        "                edit: {featureGroup: this.layer_view.obj},\n",
        "                draw: {\n",
        "                    polyline: polyline,\n",
        "                    polygon: polygon,\n",
        "                    circle: circle,\n",
        "                    rectangle: rectangle,\n",
        "                    marker: marker\n",
        "                }\n",
        "            });\n",
        "            this.map_view.obj.on('draw:created', function (e) {\n",
        "                var type = e.layerType;\n",
        "                var layer = e.layer;\n",
        "                var geo_json = layer.toGeoJSON();\n",
        "                geo_json.properties.style = layer.options;\n",
        "                that.send({\n",
        "                    'event': 'draw:created',\n",
        "                    'geo_json': geo_json\n",
        "                });\n",
        "                that.layer_view.obj.addLayer(layer);\n",
        "            });\n",
        "            this.map_view.obj.on('draw:edited', function (e) {\n",
        "                var layers = e.layers;\n",
        "                layers.eachLayer(function (layer) {\n",
        "                    var geo_json = layer.toGeoJSON();\n",
        "                    geo_json.properties.style = layer.options;\n",
        "                    that.send({\n",
        "                        'event': 'draw:edited',\n",
        "                        'geo_json': geo_json\n",
        "                    });\n",
        "                });\n",
        "            });\n",
        "            this.map_view.obj.on('draw:deleted', function (e) {\n",
        "                var layers = e.layers;\n",
        "                layers.eachLayer(function (layer) {\n",
        "                    var geo_json = layer.toGeoJSON();\n",
        "                    geo_json.properties.style = layer.options;\n",
        "                    that.send({\n",
        "                        'event': 'draw:deleted',\n",
        "                        'geo_json': geo_json\n",
        "                    });\n",
        "                });\n",
        "            });\n",
        "        },\n",
        "\n",
        "    });\n",
        "    WidgetManager.register_widget_view('LeafletDrawControlView', LeafletDrawControlView);\n",
        "\n",
        "\n",
        "    var LeafletMapView = IPython.DOMWidgetView.extend({\n",
        "        \n",
        "        initialize: function (options) {\n",
        "            LeafletMapView.__super__.initialize.apply(this, arguments);\n",
        "            this.rendered = false;\n",
        "        },\n",
        "    \n",
        "        // Layer management\n",
        "        update_layers: function (old_list, new_list) {\n",
        "            this.do_diff(\n",
        "                old_list,\n",
        "                new_list, \n",
        "                $.proxy(this.remove_layer_model, this),\n",
        "                $.proxy(this.add_layer_model, this)\n",
        "            );\n",
        "        },\n",
        "    \n",
        "        remove_layer_model: function (child_model) {\n",
        "            var child_view = this.child_views[child_model.id];\n",
        "            this.obj.removeLayer(child_view.obj);\n",
        "            this.delete_child_view(child_model);\n",
        "        },\n",
        "    \n",
        "        add_layer_model: function (child_model) {\n",
        "            var child_view = this.create_child_view(child_model, {map_view: this});\n",
        "            this.obj.addLayer(child_view.obj);\n",
        "        },\n",
        "\n",
        "        // Control Management\n",
        "        update_controls: function (old_list, new_list) {\n",
        "            this.do_diff(\n",
        "                old_list,\n",
        "                new_list, \n",
        "                $.proxy(this.remove_control_model, this),\n",
        "                $.proxy(this.add_control_model, this)\n",
        "            );\n",
        "        },\n",
        "\n",
        "        remove_control_model: function (child_model) {\n",
        "            var child_view = this.child_views[child_model.id];\n",
        "            this.obj.removeControl(child_view.obj);\n",
        "            this.delete_child_view(child_model);\n",
        "        },\n",
        "\n",
        "        add_control_model: function (child_model) {\n",
        "            var child_view = this.create_child_view(child_model, {map_view: this});\n",
        "            console.log('add_control_model', child_model, child_view);\n",
        "            this.obj.addControl(child_view.obj);\n",
        "        },\n",
        "\n",
        "        // Rendering\n",
        "        render: function () {\n",
        "            this.$el.width(this.model.get('width')).height(this.model.get('height'));\n",
        "            this.model.on('displayed', this.render_leaflet, this);\n",
        "        },\n",
        "    \n",
        "        render_leaflet: function () {\n",
        "            if (!this.rendered) {\n",
        "                var that = this;\n",
        "                console.log('options', this.get_options());\n",
        "                this.create_obj();\n",
        "                this.update_layers([], this.model.get('layers'));\n",
        "                this.update_controls([], this.model.get('controls'));\n",
        "                this.leaflet_events();\n",
        "                this.model_events();\n",
        "                this.update_bounds();\n",
        "                this.rendered = true\n",
        "            }\n",
        "        },\n",
        "\n",
        "        create_obj: function () {\n",
        "            console.log('container', this.$el.get(0), this.$el.get(0)._leaflet);\n",
        "            this.obj = L.map(this.$el.get(0), this.get_options());\n",
        "        },\n",
        "    \n",
        "        get_options: function () {\n",
        "            var o = this.model.get('options');\n",
        "            var options = {};\n",
        "            var key;\n",
        "            for (var i=0; i<o.length; i++) {\n",
        "                key = o[i];\n",
        "                // Convert from foo_bar to fooBar that Leaflet.js uses\n",
        "                options[camel_case(key)] = this.model.get(key);\n",
        "            }\n",
        "            return options;\n",
        "        },\n",
        "    \n",
        "        leaflet_events: function () {\n",
        "            var that = this;\n",
        "            this.obj.on('moveend', function (e) {\n",
        "                var c = e.target.getCenter();\n",
        "                that.model.set('center', [c.lat, c.lng]);\n",
        "                that.touch();\n",
        "                that.update_bounds();\n",
        "            });\n",
        "            this.obj.on('zoomend', function (e) {\n",
        "                var z = e.target.getZoom();\n",
        "                that.model.set('zoom', z);\n",
        "                that.touch();\n",
        "                that.update_bounds();\n",
        "            });\n",
        "        },\n",
        "    \n",
        "        update_bounds: function () {\n",
        "            var b = this.obj.getBounds();\n",
        "            this.model.set('_north', b.getNorth());\n",
        "            this.model.set('_south', b.getSouth());\n",
        "            this.model.set('_east', b.getEast());\n",
        "            this.model.set('_west', b.getWest());\n",
        "            this.touch();\n",
        "        },\n",
        "    \n",
        "        model_events: function () {\n",
        "            var that = this;\n",
        "            this.model.on('msg:custom', this.handle_msg, this);\n",
        "            this.model.on('change:layers', function(model, value, options) {\n",
        "                that.update_layers(model.previous('layers'), value);\n",
        "            });\n",
        "            this.model.on('change:controls', function(model, value, options) {\n",
        "                that.update_controls(model.previous('controls'), value);\n",
        "            });\n",
        "            this.model.on('change:zoom', function () {\n",
        "                that.obj.setZoom(that.model.get('zoom'));\n",
        "                that.update_bounds();\n",
        "            });\n",
        "            this.model.on('change:center', function () {\n",
        "                that.obj.panTo(that.model.get('center'));\n",
        "                that.update_bounds();\n",
        "            });\n",
        "        },\n",
        "        \n",
        "        handle_msg: function (content) {\n",
        "            switch(content.method) {\n",
        "                case 'foo':\n",
        "                    break;\n",
        "            }\n",
        "        },\n",
        "    \n",
        "    });\n",
        "    WidgetManager.register_widget_view('LeafletMapView', LeafletMapView);\n",
        "\n",
        "\n",
        "});"
       ],
       "metadata": {},
       "output_type": "display_data",
       "text": [
        "<IPython.core.display.Javascript object>"
       ]
      }
     ],
     "prompt_number": 3
    },
    {
     "cell_type": "heading",
     "level": 2,
     "metadata": {},
     "source": [
      "Map"
     ]
    },
    {
     "cell_type": "code",
     "collapsed": false,
     "input": [
      "m = Map(width='100%', default_tiles=TileLayer(opacity=1.0))"
     ],
     "language": "python",
     "metadata": {},
     "outputs": [],
     "prompt_number": 4
    },
    {
     "cell_type": "code",
     "collapsed": false,
     "input": [
      "m"
     ],
     "language": "python",
     "metadata": {},
     "outputs": [
      {
       "output_type": "stream",
       "stream": "stdout",
       "text": [
        "{u'geo_json': {u'geometry': {u'type': u'Polygon', u'coordinates': [[[-90.91685414314269, 32.35974032637866], [-90.89762806892395, 32.33566661011678], [-90.92921376228333, 32.3141978959316], [-90.97315907478333, 32.33247563687334], [-90.96011281013489, 32.35597016744502], [-90.91685414314269, 32.35974032637866]]]}, u'type': u'Feature', u'properties': {u'style': {u'opacity': 0.5, u'noClip': False, u'weight': 4, u'color': u'#f06eaa', u'lineCap': None, u'stroke': True, u'smoothFactor': 1, u'dashArray': None, u'fillOpacity': 0.2, u'clickable': True, u'lineJoin': None, u'fill': True, u'fillColor': None}}}, u'event': u'draw:created'}\n",
        "created\n"
       ]
      }
     ],
     "prompt_number": 5
    },
    {
     "cell_type": "code",
     "collapsed": false,
     "input": [
      "display(m)"
     ],
     "language": "python",
     "metadata": {},
     "outputs": []
    },
    {
     "cell_type": "code",
     "collapsed": false,
     "input": [
      "m.remove_layer(m.default_tiles)"
     ],
     "language": "python",
     "metadata": {},
     "outputs": []
    },
    {
     "cell_type": "code",
     "collapsed": false,
     "input": [
      "m.add_layer(m.default_tiles)"
     ],
     "language": "python",
     "metadata": {},
     "outputs": []
    },
    {
     "cell_type": "code",
     "collapsed": false,
     "input": [
      "m.model_id"
     ],
     "language": "python",
     "metadata": {},
     "outputs": []
    },
    {
     "cell_type": "code",
     "collapsed": false,
     "input": [
      "print m.center\n",
      "print m.zoom\n",
      "print m.bounds"
     ],
     "language": "python",
     "metadata": {},
     "outputs": []
    },
    {
     "cell_type": "heading",
     "level": 2,
     "metadata": {},
     "source": [
      "Marker"
     ]
    },
    {
     "cell_type": "code",
     "collapsed": false,
     "input": [
      "mark = Marker(location=m.center)\n",
      "# m.add_layer(mark)\n",
      "m += mark"
     ],
     "language": "python",
     "metadata": {},
     "outputs": []
    },
    {
     "cell_type": "code",
     "collapsed": false,
     "input": [
      "# m.remove_layer(mark)\n",
      "m -= mark"
     ],
     "language": "python",
     "metadata": {},
     "outputs": []
    },
    {
     "cell_type": "heading",
     "level": 2,
     "metadata": {},
     "source": [
      "Image Overlay"
     ]
    },
    {
     "cell_type": "code",
     "collapsed": false,
     "input": [
      "io = ImageOverlay(url='http://ipython.org/_static/IPy_header.png', bounds=m.bounds)\n",
      "m.add_layer(io)"
     ],
     "language": "python",
     "metadata": {},
     "outputs": []
    },
    {
     "cell_type": "code",
     "collapsed": false,
     "input": [
      "m.remove_layer(io)"
     ],
     "language": "python",
     "metadata": {},
     "outputs": []
    },
    {
     "cell_type": "heading",
     "level": 2,
     "metadata": {},
     "source": [
      "Polyline"
     ]
    },
    {
     "cell_type": "code",
     "collapsed": false,
     "input": [
      "pl = Polyline(locations=m.bounds_polygon)\n",
      "m += pl"
     ],
     "language": "python",
     "metadata": {},
     "outputs": []
    },
    {
     "cell_type": "code",
     "collapsed": false,
     "input": [
      "m -= pl"
     ],
     "language": "python",
     "metadata": {},
     "outputs": []
    },
    {
     "cell_type": "heading",
     "level": 2,
     "metadata": {},
     "source": [
      "Polygon"
     ]
    },
    {
     "cell_type": "code",
     "collapsed": false,
     "input": [
      "pg = Polygon(locations=m.bounds_polygon, weight=3,\n",
      "            color='#F00', opacity=0.8, fill_opacity=0.8,\n",
      "            fill_color='#0F0')\n",
      "m += pg"
     ],
     "language": "python",
     "metadata": {},
     "outputs": []
    },
    {
     "cell_type": "code",
     "collapsed": false,
     "input": [
      "m -= pg"
     ],
     "language": "python",
     "metadata": {},
     "outputs": []
    },
    {
     "cell_type": "heading",
     "level": 2,
     "metadata": {},
     "source": [
      "Rectangle"
     ]
    },
    {
     "cell_type": "code",
     "collapsed": false,
     "input": [
      "r = Rectangle(bounds=m.bounds, weight=10, fill_opacity=0.0)\n",
      "m += r"
     ],
     "language": "python",
     "metadata": {},
     "outputs": []
    },
    {
     "cell_type": "code",
     "collapsed": false,
     "input": [
      "m -= r"
     ],
     "language": "python",
     "metadata": {},
     "outputs": []
    },
    {
     "cell_type": "heading",
     "level": 2,
     "metadata": {},
     "source": [
      "Circle"
     ]
    },
    {
     "cell_type": "code",
     "collapsed": false,
     "input": [
      "c = Circle(location=m.center)\n",
      "m.add_layer(c)"
     ],
     "language": "python",
     "metadata": {},
     "outputs": []
    },
    {
     "cell_type": "code",
     "collapsed": false,
     "input": [
      "c.model_id"
     ],
     "language": "python",
     "metadata": {},
     "outputs": []
    },
    {
     "cell_type": "code",
     "collapsed": false,
     "input": [
      "m.remove_layer(c)"
     ],
     "language": "python",
     "metadata": {},
     "outputs": []
    },
    {
     "cell_type": "code",
     "collapsed": false,
     "input": [
      "c.close()"
     ],
     "language": "python",
     "metadata": {},
     "outputs": []
    },
    {
     "cell_type": "code",
     "collapsed": false,
     "input": [
      "m.layers"
     ],
     "language": "python",
     "metadata": {},
     "outputs": []
    },
    {
     "cell_type": "code",
     "collapsed": false,
     "input": [
      "c2 = Circle(location=m.center, radius=30, weight=1,\n",
      "            color='#F00', opacity=1.0, fill_opacity=1.0,\n",
      "            fill_color='#0F0')\n",
      "m.add_layer(c2)"
     ],
     "language": "python",
     "metadata": {},
     "outputs": []
    },
    {
     "cell_type": "code",
     "collapsed": false,
     "input": [
      "c2.model_id"
     ],
     "language": "python",
     "metadata": {},
     "outputs": []
    },
    {
     "cell_type": "code",
     "collapsed": false,
     "input": [
      "m.remove_layer(c2)"
     ],
     "language": "python",
     "metadata": {},
     "outputs": []
    },
    {
     "cell_type": "code",
     "collapsed": false,
     "input": [
      "c2.close()"
     ],
     "language": "python",
     "metadata": {},
     "outputs": []
    },
    {
     "cell_type": "heading",
     "level": 2,
     "metadata": {},
     "source": [
      "CircleMarker"
     ]
    },
    {
     "cell_type": "code",
     "collapsed": false,
     "input": [
      "cm = CircleMarker(location=m.center, radius=30, weight=2,\n",
      "                  color='#F00', opacity=1.0, fill_opacity=1.0,\n",
      "                  fill_color='#0F0')\n",
      "m.add_layer(cm)"
     ],
     "language": "python",
     "metadata": {},
     "outputs": []
    },
    {
     "cell_type": "code",
     "collapsed": false,
     "input": [
      "cm.model_id"
     ],
     "language": "python",
     "metadata": {},
     "outputs": []
    },
    {
     "cell_type": "code",
     "collapsed": false,
     "input": [
      "m.remove_layer(cm)"
     ],
     "language": "python",
     "metadata": {},
     "outputs": []
    },
    {
     "cell_type": "code",
     "collapsed": false,
     "input": [
      "cm.close()"
     ],
     "language": "python",
     "metadata": {},
     "outputs": []
    },
    {
     "cell_type": "heading",
     "level": 2,
     "metadata": {},
     "source": [
      "Multiple Circles"
     ]
    },
    {
     "cell_type": "code",
     "collapsed": false,
     "input": [
      "circles = []\n",
      "for pos in m.bounding_polygon:\n",
      "    c = Circle(location=pos, radius=1000)\n",
      "    circles.append(c)\n",
      "    m.add_layer(c)"
     ],
     "language": "python",
     "metadata": {},
     "outputs": []
    },
    {
     "cell_type": "code",
     "collapsed": false,
     "input": [
      "for c in circles:\n",
      "    m.remove_layer(c)"
     ],
     "language": "python",
     "metadata": {},
     "outputs": []
    },
    {
     "cell_type": "code",
     "collapsed": false,
     "input": [
      "m.remove_layer(p)"
     ],
     "language": "python",
     "metadata": {},
     "outputs": []
    },
    {
     "cell_type": "code",
     "collapsed": false,
     "input": [
      "p.close()"
     ],
     "language": "python",
     "metadata": {},
     "outputs": []
    },
    {
     "cell_type": "heading",
     "level": 2,
     "metadata": {},
     "source": [
      "GeoJSON"
     ]
    },
    {
     "cell_type": "code",
     "collapsed": false,
     "input": [
      "import matplotlib as mpl\n",
      "import matplotlib.cm\n",
      "import matplotlib.colors\n",
      "import numpy as np\n",
      "\n",
      "def n_colors(n, colormap=mpl.cm.Blues):\n",
      "    data = np.linspace(0.0,1.0,n)\n",
      "    c = [mpl.colors.rgb2hex(d[0:3]) for d in colormap(data)]\n",
      "    return c\n",
      "\n",
      "def data_to_colors(data, colormap=mpl.cm.Blues):\n",
      "    c = [mpl.colors.rgb2hex(d[0:3]) for d in colormap(mpl.colors.Normalize()(data))]\n",
      "    return c"
     ],
     "language": "python",
     "metadata": {},
     "outputs": []
    },
    {
     "cell_type": "code",
     "collapsed": false,
     "input": [
      "import json\n",
      "with open('demo.json') as f:\n",
      "    data = json.load(f)"
     ],
     "language": "python",
     "metadata": {},
     "outputs": []
    },
    {
     "cell_type": "code",
     "collapsed": false,
     "input": [
      "n_features = len(data['features'])\n",
      "colors = n_colors(n_features)\n",
      "print n_features"
     ],
     "language": "python",
     "metadata": {},
     "outputs": []
    },
    {
     "cell_type": "code",
     "collapsed": false,
     "input": [
      "colors"
     ],
     "language": "python",
     "metadata": {},
     "outputs": []
    },
    {
     "cell_type": "code",
     "collapsed": false,
     "input": [
      "for feature, color in zip(data['features'], colors):\n",
      "    feature['properties']['style'] = {'color':color, 'weight': 1, 'fillColor':color, 'fillOpacity':0.5}"
     ],
     "language": "python",
     "metadata": {},
     "outputs": []
    },
    {
     "cell_type": "code",
     "collapsed": false,
     "input": [
      "data['features'][0]"
     ],
     "language": "python",
     "metadata": {},
     "outputs": []
    },
    {
     "cell_type": "code",
     "collapsed": false,
     "input": [
      "g = GeoJSON(data=data)"
     ],
     "language": "python",
     "metadata": {},
     "outputs": []
    },
    {
     "cell_type": "code",
     "collapsed": false,
     "input": [
      "m.add_layer(g)"
     ],
     "language": "python",
     "metadata": {},
     "outputs": []
    },
    {
     "cell_type": "code",
     "collapsed": false,
     "input": [
      "m.remove_layer(g)"
     ],
     "language": "python",
     "metadata": {},
     "outputs": []
    },
    {
     "cell_type": "code",
     "collapsed": false,
     "input": [
      "g.close()"
     ],
     "language": "python",
     "metadata": {},
     "outputs": []
    },
    {
     "cell_type": "heading",
     "level": 2,
     "metadata": {},
     "source": [
      "DrawControl"
     ]
    },
    {
     "cell_type": "code",
     "collapsed": false,
     "input": [
      "dc = DrawControl()"
     ],
     "language": "python",
     "metadata": {},
     "outputs": [],
     "prompt_number": 6
    },
    {
     "cell_type": "code",
     "collapsed": false,
     "input": [
      "m.add_control(dc)"
     ],
     "language": "python",
     "metadata": {},
     "outputs": [],
     "prompt_number": 7
    },
    {
     "cell_type": "code",
     "collapsed": false,
     "input": [
      "dc.draw"
     ],
     "language": "python",
     "metadata": {},
     "outputs": [
      {
       "metadata": {},
       "output_type": "pyout",
       "prompt_number": 9,
       "text": [
        "{u'geometry': {u'coordinates': [[[-90.91685414314269, 32.35974032637866],\n",
        "    [-90.89762806892395, 32.33566661011678],\n",
        "    [-90.92921376228333, 32.3141978959316],\n",
        "    [-90.97315907478333, 32.33247563687334],\n",
        "    [-90.96011281013489, 32.35597016744502],\n",
        "    [-90.91685414314269, 32.35974032637866]]],\n",
        "  u'type': u'Polygon'},\n",
        " u'properties': {u'style': {u'clickable': True,\n",
        "   u'color': u'#f06eaa',\n",
        "   u'dashArray': None,\n",
        "   u'fill': True,\n",
        "   u'fillColor': None,\n",
        "   u'fillOpacity': 0.2,\n",
        "   u'lineCap': None,\n",
        "   u'lineJoin': None,\n",
        "   u'noClip': False,\n",
        "   u'opacity': 0.5,\n",
        "   u'smoothFactor': 1,\n",
        "   u'stroke': True,\n",
        "   u'weight': 4}},\n",
        " u'type': u'Feature'}"
       ]
      }
     ],
     "prompt_number": 9
    },
    {
     "cell_type": "code",
     "collapsed": false,
     "input": [
      "dc.action"
     ],
     "language": "python",
     "metadata": {},
     "outputs": [
      {
       "metadata": {},
       "output_type": "pyout",
       "prompt_number": 8,
       "text": [
        "u'created'"
       ]
      }
     ],
     "prompt_number": 8
    },
    {
     "cell_type": "code",
     "collapsed": false,
     "input": [
      "dc.draw"
     ],
     "language": "python",
     "metadata": {},
     "outputs": []
    },
    {
     "cell_type": "code",
     "collapsed": false,
     "input": [],
     "language": "python",
     "metadata": {},
     "outputs": []
    }
   ],
   "metadata": {}
  }
 ]
}