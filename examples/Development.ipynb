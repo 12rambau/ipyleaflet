{
 "metadata": {
  "name": "",
  "signature": "sha256:4d14890bec0e1fd3318724a47a49bc38e2643fa8b25878e458805b1a6194a303"
 },
 "nbformat": 3,
 "nbformat_minor": 0,
 "worksheets": [
  {
   "cells": [
    {
     "cell_type": "code",
     "collapsed": false,
     "input": [
      "from leafletwidget import Map, Circle, CircleMarker, Polygon, GeoJSON\n",
      "from leafletwidget import initialize_notebook"
     ],
     "language": "python",
     "metadata": {},
     "outputs": [],
     "prompt_number": 1
    },
    {
     "cell_type": "code",
     "collapsed": false,
     "input": [
      "initialize_notebook()"
     ],
     "language": "python",
     "metadata": {},
     "outputs": [
      {
       "html": [
        "<link rel=\"stylesheet\" href=\"http://cdn.leafletjs.com/leaflet-0.7.2/leaflet.css\" />"
       ],
       "metadata": {},
       "output_type": "display_data",
       "text": [
        "<IPython.core.display.HTML object>"
       ]
      },
      {
       "javascript": [
        "\n",
        "\n",
        "require.config({paths: {leaflet: \"http://cdn.leafletjs.com/leaflet-0.7.2/leaflet\"}});\n",
        "\n",
        "require([\"widgets/js/widget\", \"leaflet\"], function(WidgetManager, leaflet) {\n",
        "\n",
        "    var LeafletLayerView = IPython.WidgetView.extend({\n",
        "        \n",
        "        initialize: function (parameters) {\n",
        "            console.log('Layer.initialize');\n",
        "            LeafletLayerView.__super__.initialize.apply(this, arguments);\n",
        "            this.map_view = this.options.map_view;\n",
        "        },\n",
        "\n",
        "        render: function () {\n",
        "            this.create_obj();\n",
        "        }\n",
        "    });\n",
        "    WidgetManager.register_widget_view('LeafletLayerView', LeafletLayerView);\n",
        "\n",
        "\n",
        "    // UILayer\n",
        "    var LeafletUILayerView = LeafletLayerView.extend({\n",
        "    });\n",
        "    WidgetManager.register_widget_view('LeafletUILayerView', LeafletUILayerView);\n",
        "\n",
        "\n",
        "    var LeafletMarkerView = LeafletUILayerView.extend({\n",
        "    });\n",
        "    WidgetManager.register_widget_view('LeafletMarkerView', LeafletMarkerView);\n",
        "\n",
        "\n",
        "    var LeafletPopupView = LeafletUILayerView.extend({\n",
        "    });\n",
        "    WidgetManager.register_widget_view('LeafletPopupView', LeafletPopupView);\n",
        "\n",
        "\n",
        "    // RasterLayer\n",
        "    var LeafletRasterLayerView = LeafletLayerView.extend({\n",
        "    });\n",
        "    WidgetManager.register_widget_view('LeafletRasterLayerView', LeafletRasterLayerView);\n",
        "\n",
        "\n",
        "    var LeafletTileLayerView = LeafletRasterLayerView.extend({\n",
        "    });\n",
        "    WidgetManager.register_widget_view('LeafletTileLayerView', LeafletTileLayerView);\n",
        "\n",
        "\n",
        "    var LeafletImageOverlayView = LeafletRasterLayerView.extend({\n",
        "    });\n",
        "    WidgetManager.register_widget_view('LeafletImageOverlayView', LeafletImageOverlayView);\n",
        "\n",
        "\n",
        "    // VectorLayer\n",
        "    var LeafletVectorLayerView = LeafletLayerView.extend({\n",
        "    });\n",
        "    WidgetManager.register_widget_view('LeafletVectorLayerView', LeafletVectorLayerView);\n",
        "\n",
        "\n",
        "    var LeafletPathView = LeafletVectorLayerView.extend({\n",
        "    });\n",
        "    WidgetManager.register_widget_view('LeafletPathView', LeafletPathView);\n",
        "\n",
        "\n",
        "    var LeafletPolylineView = LeafletPathView.extend({\n",
        "    });\n",
        "    WidgetManager.register_widget_view('LeafletPolylineView', LeafletPolylineView);\n",
        "\n",
        "\n",
        "    var LeafletPolygonView = LeafletPolylineView.extend({\n",
        "\n",
        "        create_obj: function () {\n",
        "            console.log('Polygon.create_obj', this.model.get('locations'));\n",
        "            this.obj = leaflet.polygon(this.model.get('locations'));\n",
        "        },\n",
        "\n",
        "    });\n",
        "    WidgetManager.register_widget_view('LeafletPolygonView', LeafletPolygonView);\n",
        "\n",
        "\n",
        "    var LeafletRectangleView = LeafletPolygonView.extend({\n",
        "    });\n",
        "    WidgetManager.register_widget_view('LeafletRectangleView', LeafletRectangleView);\n",
        "\n",
        "\n",
        "    var LeafletCircleView = LeafletPathView.extend({\n",
        "        \n",
        "        create_obj: function () {\n",
        "            console.log('Circle.create_obj', this.model.get('location'));\n",
        "            this.obj = leaflet.circle(this.model.get('location'), this.model.get('radius'));\n",
        "        },\n",
        "\n",
        "    });\n",
        "    WidgetManager.register_widget_view('LeafletCircleView', LeafletCircleView);\n",
        "\n",
        "\n",
        "    var LeafletCircleMarkerView = LeafletCircleView.extend({\n",
        "\n",
        "        create_obj: function () {\n",
        "            console.log('CircleMarker.create_obj', this.model.get('location'));\n",
        "            this.obj = leaflet.circleMarker(this.model.get('location'), this.model.get('radius'));\n",
        "        },\n",
        "\n",
        "    });\n",
        "    WidgetManager.register_widget_view('LeafletCircleMarkerView', LeafletCircleMarkerView);\n",
        "\n",
        "\n",
        "    // LayerGroup\n",
        "    var LeafletLayerGroupView = LeafletLayerView.extend({\n",
        "    });\n",
        "    WidgetManager.register_widget_view('LeafletLayerGroupView', LeafletLayerGroupView);\n",
        "\n",
        "\n",
        "    var LeafletFeatureGroupView = LeafletLayerGroupView.extend({\n",
        "    });\n",
        "    WidgetManager.register_widget_view('LeafletFeatureGroupView', LeafletFeatureGroupView);\n",
        "\n",
        "\n",
        "    var LeafletMultiPolylineView = LeafletFeatureGroupView.extend({\n",
        "    });\n",
        "    WidgetManager.register_widget_view('LeafletMultiPolylineView', LeafletMultiPolylineView);\n",
        "\n",
        "\n",
        "    var LeafletGeoJSONView = LeafletFeatureGroupView.extend({\n",
        "\n",
        "        create_obj: function () {\n",
        "            console.log('CircleMarker.create_obj', this.model.get('location'));\n",
        "            this.obj = leaflet.geoJson(this.model.get('data'));\n",
        "        },\n",
        "\n",
        "    });\n",
        "    WidgetManager.register_widget_view('LeafletGeoJSONView', LeafletGeoJSONView);\n",
        "\n",
        "\n",
        "    var LeafletMultiPolygonView = LeafletFeatureGroupView.extend({\n",
        "    });\n",
        "    WidgetManager.register_widget_view('LeafletMultiPolygonView', LeafletMultiPolygonView);\n",
        "\n",
        "\n",
        "    var LeafletMapView = IPython.DOMWidgetView.extend({\n",
        "        \n",
        "        initialize: function (options) {\n",
        "            LeafletMapView.__super__.initialize.apply(this, arguments);\n",
        "        },\n",
        "\n",
        "        // Layer management\n",
        "        update_layers: function (old_list, new_list) {\n",
        "            this.do_diff(\n",
        "                old_list,\n",
        "                new_list, \n",
        "                $.proxy(this.remove_child_model, this),\n",
        "                $.proxy(this.add_child_model, this)\n",
        "            );\n",
        "        },\n",
        "\n",
        "        remove_child_model: function (child_model) {\n",
        "            var child_view = this.child_views[child_model.id];\n",
        "            this.map.removeLayer(child_view.obj);\n",
        "            this.delete_child_view(child_model);\n",
        "        },\n",
        "\n",
        "        add_child_model: function (child_model) {\n",
        "            var child_view = this.create_child_view(child_model);\n",
        "            console.log('Map.add_child_view', child_model);\n",
        "            this.map.addLayer(child_view.obj);\n",
        "        },\n",
        "\n",
        "        // Rendering\n",
        "        render: function () {\n",
        "            this.$el.width(this.model.get('width')).height(this.model.get('height'));\n",
        "            this.model.on('displayed', this.render_leaflet, this);\n",
        "        },\n",
        "\n",
        "        render_leaflet: function () {\n",
        "            var that = this;\n",
        "            this.map = leaflet.map(this.$el.get(0));\n",
        "            this.map.setView(this.model.get('location'), this.model.get('zoom_start'));\n",
        "            leaflet.tileLayer(this.model.get('tiles_url'), {\n",
        "                attribution: this.model.get('tiles_attr'),\n",
        "                maxZoom: this.model.get('max_zoom'),\n",
        "                minZoom: this.model.get('min_zoom'),\n",
        "            }).addTo(this.map);\n",
        "            this.update_layers([], this.model.get('layers'));\n",
        "            this.leaflet_events();\n",
        "            this.model_events();\n",
        "            this.update_bounds();\n",
        "        },\n",
        "\n",
        "        leaflet_events: function () {\n",
        "            var that = this;\n",
        "            this.map.on('moveend', function (e) {\n",
        "                var c = e.target.getCenter();\n",
        "                that.model.set('location', [c.lat, c.lng]);\n",
        "                that.touch();\n",
        "                that.update_bounds();\n",
        "            });\n",
        "            this.map.on('zoomend', function (e) {\n",
        "                var z = e.target.getZoom();\n",
        "                that.model.set('zoom', z);\n",
        "                that.touch();\n",
        "                that.update_bounds();\n",
        "            });\n",
        "        },\n",
        "\n",
        "        update_bounds: function () {\n",
        "            var b = this.map.getBounds();\n",
        "            this.model.set('_north', b.getNorth());\n",
        "            this.model.set('_south', b.getSouth());\n",
        "            this.model.set('_east', b.getEast());\n",
        "            this.model.set('_west', b.getWest());\n",
        "            this.touch();\n",
        "        },\n",
        "\n",
        "        model_events: function () {\n",
        "            var that = this;\n",
        "            this.model.on('msg:custom', this.handle_msg, this);\n",
        "            this.model.on('change:layers', function(model, value, options) {\n",
        "                that.update_layers(model.previous('layers'), value);\n",
        "            });\n",
        "            this.model.on('change:zoom', function () {\n",
        "                that.map.setZoom(that.model.get('zoom'));\n",
        "                that.update_bounds();\n",
        "            });\n",
        "            this.model.on('change:location', function () {\n",
        "                that.map.panTo(that.model.get('location'));\n",
        "                that.update_bounds();\n",
        "            });\n",
        "        },\n",
        "        \n",
        "        handle_msg: function (content) {\n",
        "            switch(content.method) {\n",
        "                case 'foo':\n",
        "                    break;\n",
        "            }\n",
        "        },\n",
        "\n",
        "    });\n",
        "    WidgetManager.register_widget_view('LeafletMapView', LeafletMapView);\n",
        "\n",
        "\n",
        "});"
       ],
       "metadata": {},
       "output_type": "display_data",
       "text": [
        "<IPython.core.display.Javascript object>"
       ]
      }
     ],
     "prompt_number": 2
    },
    {
     "cell_type": "code",
     "collapsed": false,
     "input": [
      "m = Map(width='100%')"
     ],
     "language": "python",
     "metadata": {},
     "outputs": [],
     "prompt_number": 3
    },
    {
     "cell_type": "code",
     "collapsed": false,
     "input": [
      "m"
     ],
     "language": "python",
     "metadata": {},
     "outputs": [],
     "prompt_number": 4
    },
    {
     "cell_type": "code",
     "collapsed": false,
     "input": [
      "print m.location\n",
      "print m.zoom"
     ],
     "language": "python",
     "metadata": {},
     "outputs": [
      {
       "output_type": "stream",
       "stream": "stdout",
       "text": [
        "[32.3226932, -90.9019257]\n",
        "12\n"
       ]
      }
     ],
     "prompt_number": 5
    },
    {
     "cell_type": "code",
     "collapsed": false,
     "input": [
      "c = Circle(location=m.location)\n",
      "m.add_layer(c)"
     ],
     "language": "python",
     "metadata": {},
     "outputs": [],
     "prompt_number": 6
    },
    {
     "cell_type": "code",
     "collapsed": false,
     "input": [
      "m.remove_layer(c)"
     ],
     "language": "python",
     "metadata": {},
     "outputs": [],
     "prompt_number": 7
    },
    {
     "cell_type": "code",
     "collapsed": false,
     "input": [
      "cm = CircleMarker(location=m.location, radius=30)\n",
      "m.add_layer(cm)"
     ],
     "language": "python",
     "metadata": {},
     "outputs": [],
     "prompt_number": 8
    },
    {
     "cell_type": "code",
     "collapsed": false,
     "input": [
      "m.remove_layer(cm)"
     ],
     "language": "python",
     "metadata": {},
     "outputs": [],
     "prompt_number": 9
    },
    {
     "cell_type": "code",
     "collapsed": false,
     "input": [
      "circles = []\n",
      "for pos in m.bounding_polygon:\n",
      "    c = Circle(location=pos, radius=1000)\n",
      "    circles.append(c)\n",
      "    m.add_layer(c)"
     ],
     "language": "python",
     "metadata": {},
     "outputs": [],
     "prompt_number": 10
    },
    {
     "cell_type": "code",
     "collapsed": false,
     "input": [
      "for c in circles:\n",
      "    m.remove_layer(c)"
     ],
     "language": "python",
     "metadata": {},
     "outputs": [],
     "prompt_number": 11
    },
    {
     "cell_type": "code",
     "collapsed": false,
     "input": [
      "p = Polygon(locations=m.bounding_polygon)\n",
      "m.add_layer(p)"
     ],
     "language": "python",
     "metadata": {},
     "outputs": [],
     "prompt_number": 12
    },
    {
     "cell_type": "code",
     "collapsed": false,
     "input": [
      "m.remove_layer(p)"
     ],
     "language": "python",
     "metadata": {},
     "outputs": [],
     "prompt_number": 13
    },
    {
     "cell_type": "code",
     "collapsed": false,
     "input": [
      "g = GeoJSON()\n",
      "g.load_data('demo.json')"
     ],
     "language": "python",
     "metadata": {},
     "outputs": [],
     "prompt_number": 14
    },
    {
     "cell_type": "code",
     "collapsed": false,
     "input": [
      "len(g.data['features'])"
     ],
     "language": "python",
     "metadata": {},
     "outputs": [
      {
       "metadata": {},
       "output_type": "pyout",
       "prompt_number": 19,
       "text": [
        "20"
       ]
      }
     ],
     "prompt_number": 19
    },
    {
     "cell_type": "code",
     "collapsed": false,
     "input": [
      "m.add_layer(g)"
     ],
     "language": "python",
     "metadata": {},
     "outputs": [],
     "prompt_number": 17
    },
    {
     "cell_type": "code",
     "collapsed": false,
     "input": [
      "m.remove_layer(g)"
     ],
     "language": "python",
     "metadata": {},
     "outputs": [],
     "prompt_number": 18
    },
    {
     "cell_type": "code",
     "collapsed": false,
     "input": [],
     "language": "python",
     "metadata": {},
     "outputs": []
    }
   ],
   "metadata": {}
  }
 ]
}