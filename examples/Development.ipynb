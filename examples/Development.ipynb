{
 "metadata": {
  "name": "",
  "signature": "sha256:09ca8df077f008b81f2070cc14db0ae4248b2f6a9d31e25447e4d71c9a8b15ca"
 },
 "nbformat": 3,
 "nbformat_minor": 0,
 "worksheets": [
  {
   "cells": [
    {
     "cell_type": "code",
     "collapsed": false,
     "input": [
      "from leafletwidget import Map, Circle, CircleMarker, Polygon, GeoJSON\n",
      "from leafletwidget import initialize_notebook"
     ],
     "language": "python",
     "metadata": {},
     "outputs": [],
     "prompt_number": 1
    },
    {
     "cell_type": "code",
     "collapsed": false,
     "input": [
      "initialize_notebook()"
     ],
     "language": "python",
     "metadata": {},
     "outputs": [
      {
       "html": [
        "<link rel=\"stylesheet\" href=\"http://cdn.leafletjs.com/leaflet-0.7.2/leaflet.css\" />"
       ],
       "metadata": {},
       "output_type": "display_data",
       "text": [
        "<IPython.core.display.HTML object>"
       ]
      },
      {
       "javascript": [
        "\n",
        "\n",
        "require.config({paths: {leaflet: \"http://cdn.leafletjs.com/leaflet-0.7.2/leaflet\"}});\n",
        "\n",
        "require([\"widgets/js/widget\", \"leaflet\"], function(WidgetManager, leaflet) {\n",
        "\n",
        "    function camel_case(input) {\n",
        "        // Convert from foo_bar to fooBar \n",
        "        return input.toLowerCase().replace(/_(.)/g, function(match, group1) {\n",
        "            return group1.toUpperCase();\n",
        "        });\n",
        "    }\n",
        "    \n",
        "    var LeafletLayerView = IPython.WidgetView.extend({\n",
        "        \n",
        "        initialize: function (parameters) {\n",
        "            console.log('Layer.initialize');\n",
        "            LeafletLayerView.__super__.initialize.apply(this, arguments);\n",
        "            // Remove this line after testing...\n",
        "            this.model.on('displayed', this.test_display, this);\n",
        "            // this.map_view = this.options.map_view;\n",
        "        },\n",
        "    \n",
        "        // Remove this method after testing...\n",
        "        test_display: function () {\n",
        "            console.log('displayed!!!');\n",
        "        },\n",
        "    \n",
        "        render: function () {\n",
        "            console.log('options', this.get_options());\n",
        "            this.create_obj();\n",
        "        },\n",
        "    \n",
        "        get_options: function () {\n",
        "            var o = this.model.get('options');\n",
        "            var options = {};\n",
        "            var key;\n",
        "            for (var i=0; i<o.length; i++) {\n",
        "                key = o[i];\n",
        "                // Convert from foo_bar to fooBar that Leaflet.js uses\n",
        "                options[camel_case(key)] = this.model.get(key);\n",
        "            }\n",
        "            return options;\n",
        "        },\n",
        "    });\n",
        "    WidgetManager.register_widget_view('LeafletLayerView', LeafletLayerView);\n",
        "\n",
        "\n",
        "    // UILayer\n",
        "    var LeafletUILayerView = LeafletLayerView.extend({\n",
        "    });\n",
        "    WidgetManager.register_widget_view('LeafletUILayerView', LeafletUILayerView);\n",
        "    \n",
        "    \n",
        "    var LeafletMarkerView = LeafletUILayerView.extend({\n",
        "    });\n",
        "    WidgetManager.register_widget_view('LeafletMarkerView', LeafletMarkerView);\n",
        "    \n",
        "    \n",
        "    var LeafletPopupView = LeafletUILayerView.extend({\n",
        "    });\n",
        "    WidgetManager.register_widget_view('LeafletPopupView', LeafletPopupView);\n",
        "    \n",
        "    \n",
        "    // RasterLayer\n",
        "    var LeafletRasterLayerView = LeafletLayerView.extend({\n",
        "    });\n",
        "    WidgetManager.register_widget_view('LeafletRasterLayerView', LeafletRasterLayerView);\n",
        "    \n",
        "    \n",
        "    var LeafletTileLayerView = LeafletRasterLayerView.extend({\n",
        "    });\n",
        "    WidgetManager.register_widget_view('LeafletTileLayerView', LeafletTileLayerView);\n",
        "    \n",
        "    \n",
        "    var LeafletImageOverlayView = LeafletRasterLayerView.extend({\n",
        "    });\n",
        "    WidgetManager.register_widget_view('LeafletImageOverlayView', LeafletImageOverlayView);\n",
        "    \n",
        "    \n",
        "    // VectorLayer\n",
        "    var LeafletVectorLayerView = LeafletLayerView.extend({\n",
        "    });\n",
        "    WidgetManager.register_widget_view('LeafletVectorLayerView', LeafletVectorLayerView);\n",
        "    \n",
        "    \n",
        "    var LeafletPathView = LeafletVectorLayerView.extend({\n",
        "    });\n",
        "    WidgetManager.register_widget_view('LeafletPathView', LeafletPathView);\n",
        "    \n",
        "    \n",
        "    var LeafletPolylineView = LeafletPathView.extend({\n",
        "    });\n",
        "    WidgetManager.register_widget_view('LeafletPolylineView', LeafletPolylineView);\n",
        "    \n",
        "    \n",
        "    var LeafletPolygonView = LeafletPolylineView.extend({\n",
        "    \n",
        "        create_obj: function () {\n",
        "            console.log('Polygon.create_obj', this.model.get('locations'));\n",
        "            this.obj = leaflet.polygon(this.model.get('locations'), this.get_options());\n",
        "        },\n",
        "    \n",
        "    });\n",
        "    WidgetManager.register_widget_view('LeafletPolygonView', LeafletPolygonView);\n",
        "    \n",
        "    \n",
        "    var LeafletRectangleView = LeafletPolygonView.extend({\n",
        "    });\n",
        "    WidgetManager.register_widget_view('LeafletRectangleView', LeafletRectangleView);\n",
        "    \n",
        "    \n",
        "    var LeafletCircleView = LeafletPathView.extend({\n",
        "        \n",
        "        create_obj: function () {\n",
        "            console.log('Circle.create_obj', this.model.get('location'));\n",
        "            this.obj = leaflet.circle(\n",
        "                this.model.get('location'), this.model.get('radius'),\n",
        "                this.get_options()\n",
        "            );\n",
        "        },\n",
        "    \n",
        "    });\n",
        "    WidgetManager.register_widget_view('LeafletCircleView', LeafletCircleView);\n",
        "    \n",
        "    \n",
        "    var LeafletCircleMarkerView = LeafletCircleView.extend({\n",
        "    \n",
        "        create_obj: function () {\n",
        "            console.log('CircleMarker.create_obj', this.model.get('location'));\n",
        "            console.log('CircleMarker.get_options', this.get_options());\n",
        "            this.obj = leaflet.circleMarker(\n",
        "                this.model.get('location'), this.model.get('radius'),\n",
        "                this.get_options()\n",
        "            );\n",
        "            console.log('CircleMarker.obj', this.obj);\n",
        "        },\n",
        "    \n",
        "    });\n",
        "    WidgetManager.register_widget_view('LeafletCircleMarkerView', LeafletCircleMarkerView);\n",
        "    \n",
        "    \n",
        "    // LayerGroup\n",
        "    var LeafletLayerGroupView = LeafletLayerView.extend({\n",
        "    });\n",
        "    WidgetManager.register_widget_view('LeafletLayerGroupView', LeafletLayerGroupView);\n",
        "    \n",
        "    \n",
        "    var LeafletFeatureGroupView = LeafletLayerGroupView.extend({\n",
        "    });\n",
        "    WidgetManager.register_widget_view('LeafletFeatureGroupView', LeafletFeatureGroupView);\n",
        "    \n",
        "    \n",
        "    var LeafletMultiPolylineView = LeafletFeatureGroupView.extend({\n",
        "    });\n",
        "    WidgetManager.register_widget_view('LeafletMultiPolylineView', LeafletMultiPolylineView);\n",
        "    \n",
        "    \n",
        "    var LeafletGeoJSONView = LeafletFeatureGroupView.extend({\n",
        "    \n",
        "        create_obj: function () {\n",
        "            var style = this.model.get('style');\n",
        "            if ($.isEmptyObject(style)) {\n",
        "                style = function (feature) {\n",
        "                    console.log(feature.properties.style);\n",
        "                    return feature.properties.style;\n",
        "                } \n",
        "            }\n",
        "            this.obj = leaflet.geoJson(this.model.get('data'), {style: style});\n",
        "        },\n",
        "    });\n",
        "    WidgetManager.register_widget_view('LeafletGeoJSONView', LeafletGeoJSONView);\n",
        "\n",
        "\n",
        "    var LeafletMultiPolygonView = LeafletFeatureGroupView.extend({\n",
        "    });\n",
        "    WidgetManager.register_widget_view('LeafletMultiPolygonView', LeafletMultiPolygonView);\n",
        "    \n",
        "    \n",
        "    var LeafletMapView = IPython.DOMWidgetView.extend({\n",
        "        \n",
        "        initialize: function (options) {\n",
        "            LeafletMapView.__super__.initialize.apply(this, arguments);\n",
        "        },\n",
        "    \n",
        "        // Layer management\n",
        "        update_layers: function (old_list, new_list) {\n",
        "            this.do_diff(\n",
        "                old_list,\n",
        "                new_list, \n",
        "                $.proxy(this.remove_child_model, this),\n",
        "                $.proxy(this.add_child_model, this)\n",
        "            );\n",
        "        },\n",
        "    \n",
        "        remove_child_model: function (child_model) {\n",
        "            var child_view = this.child_views[child_model.id];\n",
        "            this.obj.removeLayer(child_view.obj);\n",
        "            this.delete_child_view(child_model);\n",
        "        },\n",
        "    \n",
        "        add_child_model: function (child_model) {\n",
        "            var child_view = this.create_child_view(child_model);\n",
        "            this.obj.addLayer(child_view.obj);\n",
        "        },\n",
        "    \n",
        "        // Rendering\n",
        "        render: function () {\n",
        "            this.$el.width(this.model.get('width')).height(this.model.get('height'));\n",
        "            this.model.on('displayed', this.render_leaflet, this);\n",
        "        },\n",
        "    \n",
        "        render_leaflet: function () {\n",
        "            var that = this;\n",
        "            console.log('options', this.get_options());\n",
        "            this.create_obj();\n",
        "            // this.map = leaflet.map(this.$el.get(0));\n",
        "            // this.map.setView(this.model.get('location'), this.model.get('zoom_start'));\n",
        "            leaflet.tileLayer(this.model.get('tiles_url'), {\n",
        "                attribution: this.model.get('tiles_attr'),\n",
        "                maxZoom: this.model.get('max_zoom'),\n",
        "                minZoom: this.model.get('min_zoom'),\n",
        "            }).addTo(this.obj);\n",
        "            this.update_layers([], this.model.get('layers'));\n",
        "            this.leaflet_events();\n",
        "            this.model_events();\n",
        "            this.update_bounds();\n",
        "        },\n",
        "    \n",
        "        create_obj: function () {\n",
        "            this.obj = leaflet.map(this.$el.get(0), this.get_options());\n",
        "        },\n",
        "    \n",
        "        get_options: function () {\n",
        "            var o = this.model.get('options');\n",
        "            var options = {};\n",
        "            var key;\n",
        "            for (var i=0; i<o.length; i++) {\n",
        "                key = o[i];\n",
        "                // Convert from foo_bar to fooBar that Leaflet.js uses\n",
        "                options[camel_case(key)] = this.model.get(key);\n",
        "            }\n",
        "            return options;\n",
        "        },\n",
        "    \n",
        "        leaflet_events: function () {\n",
        "            var that = this;\n",
        "            this.obj.on('moveend', function (e) {\n",
        "                var c = e.target.getCenter();\n",
        "                that.model.set('center', [c.lat, c.lng]);\n",
        "                that.touch();\n",
        "                that.update_bounds();\n",
        "            });\n",
        "            this.obj.on('zoomend', function (e) {\n",
        "                var z = e.target.getZoom();\n",
        "                that.model.set('zoom', z);\n",
        "                that.touch();\n",
        "                that.update_bounds();\n",
        "            });\n",
        "        },\n",
        "    \n",
        "        update_bounds: function () {\n",
        "            var b = this.obj.getBounds();\n",
        "            this.model.set('_north', b.getNorth());\n",
        "            this.model.set('_south', b.getSouth());\n",
        "            this.model.set('_east', b.getEast());\n",
        "            this.model.set('_west', b.getWest());\n",
        "            this.touch();\n",
        "        },\n",
        "    \n",
        "        model_events: function () {\n",
        "            var that = this;\n",
        "            this.model.on('msg:custom', this.handle_msg, this);\n",
        "            this.model.on('change:layers', function(model, value, options) {\n",
        "                that.update_layers(model.previous('layers'), value);\n",
        "            });\n",
        "            this.model.on('change:zoom', function () {\n",
        "                that.obj.setZoom(that.model.get('zoom'));\n",
        "                that.update_bounds();\n",
        "            });\n",
        "            this.model.on('change:center', function () {\n",
        "                that.obj.panTo(that.model.get('center'));\n",
        "                that.update_bounds();\n",
        "            });\n",
        "        },\n",
        "        \n",
        "        handle_msg: function (content) {\n",
        "            switch(content.method) {\n",
        "                case 'foo':\n",
        "                    break;\n",
        "            }\n",
        "        },\n",
        "    \n",
        "    });\n",
        "    WidgetManager.register_widget_view('LeafletMapView', LeafletMapView);\n",
        "\n",
        "\n",
        "});"
       ],
       "metadata": {},
       "output_type": "display_data",
       "text": [
        "<IPython.core.display.Javascript object>"
       ]
      }
     ],
     "prompt_number": 2
    },
    {
     "cell_type": "code",
     "collapsed": false,
     "input": [
      "m = Map(width='100%')"
     ],
     "language": "python",
     "metadata": {},
     "outputs": [],
     "prompt_number": 3
    },
    {
     "cell_type": "code",
     "collapsed": false,
     "input": [
      "m"
     ],
     "language": "python",
     "metadata": {},
     "outputs": [],
     "prompt_number": 4
    },
    {
     "cell_type": "code",
     "collapsed": false,
     "input": [
      "m.model_id"
     ],
     "language": "python",
     "metadata": {},
     "outputs": [
      {
       "metadata": {},
       "output_type": "pyout",
       "prompt_number": 5,
       "text": [
        "u'6dec88704bb9441caac24e0663c1a7bf'"
       ]
      }
     ],
     "prompt_number": 5
    },
    {
     "cell_type": "code",
     "collapsed": false,
     "input": [
      "print m.center\n",
      "print m.zoom"
     ],
     "language": "python",
     "metadata": {},
     "outputs": [
      {
       "output_type": "stream",
       "stream": "stdout",
       "text": [
        "[32.3226932, -90.9019257]\n",
        "12\n"
       ]
      }
     ],
     "prompt_number": 6
    },
    {
     "cell_type": "heading",
     "level": 2,
     "metadata": {},
     "source": [
      "Circle"
     ]
    },
    {
     "cell_type": "code",
     "collapsed": false,
     "input": [
      "c = Circle(location=m.center)\n",
      "m.add_layer(c)"
     ],
     "language": "python",
     "metadata": {},
     "outputs": [],
     "prompt_number": 5
    },
    {
     "cell_type": "code",
     "collapsed": false,
     "input": [
      "c.model_id"
     ],
     "language": "python",
     "metadata": {},
     "outputs": [
      {
       "metadata": {},
       "output_type": "pyout",
       "prompt_number": 6,
       "text": [
        "u'2540e8063881490bba7a4a4f5b27951d'"
       ]
      }
     ],
     "prompt_number": 6
    },
    {
     "cell_type": "code",
     "collapsed": false,
     "input": [
      "m.remove_layer(c)"
     ],
     "language": "python",
     "metadata": {},
     "outputs": [],
     "prompt_number": 9
    },
    {
     "cell_type": "code",
     "collapsed": false,
     "input": [
      "c.close()"
     ],
     "language": "python",
     "metadata": {},
     "outputs": [],
     "prompt_number": 10
    },
    {
     "cell_type": "code",
     "collapsed": false,
     "input": [
      "m.layers"
     ],
     "language": "python",
     "metadata": {},
     "outputs": []
    },
    {
     "cell_type": "code",
     "collapsed": false,
     "input": [
      "c2 = Circle(location=m.center, radius=30, weight=1,\n",
      "            color='#F00', opacity=1.0, fill_opacity=1.0,\n",
      "            fill_color='#0F0')\n",
      "m.add_layer(c2)"
     ],
     "language": "python",
     "metadata": {},
     "outputs": [],
     "prompt_number": 11
    },
    {
     "cell_type": "code",
     "collapsed": false,
     "input": [
      "c2.model_id"
     ],
     "language": "python",
     "metadata": {},
     "outputs": [
      {
       "metadata": {},
       "output_type": "pyout",
       "prompt_number": 12,
       "text": [
        "u'53204c88e3a348feb121b7be2099aef0'"
       ]
      }
     ],
     "prompt_number": 12
    },
    {
     "cell_type": "code",
     "collapsed": false,
     "input": [
      "m.remove_layer(c2)"
     ],
     "language": "python",
     "metadata": {},
     "outputs": []
    },
    {
     "cell_type": "code",
     "collapsed": false,
     "input": [
      "c2.close()"
     ],
     "language": "python",
     "metadata": {},
     "outputs": [],
     "prompt_number": 14
    },
    {
     "cell_type": "heading",
     "level": 2,
     "metadata": {},
     "source": [
      "CircleMarker"
     ]
    },
    {
     "cell_type": "code",
     "collapsed": false,
     "input": [
      "cm = CircleMarker(location=m.center, radius=30, weight=2,\n",
      "                  color='#F00', opacity=1.0, fill_opacity=1.0,\n",
      "                  fill_color='#0F0')\n",
      "m.add_layer(cm)"
     ],
     "language": "python",
     "metadata": {},
     "outputs": [],
     "prompt_number": 7
    },
    {
     "cell_type": "code",
     "collapsed": false,
     "input": [
      "cm.model_id"
     ],
     "language": "python",
     "metadata": {},
     "outputs": [
      {
       "metadata": {},
       "output_type": "pyout",
       "prompt_number": 16,
       "text": [
        "u'85b8aaecf1eb429ba5ede5da066aaaad'"
       ]
      }
     ],
     "prompt_number": 16
    },
    {
     "cell_type": "code",
     "collapsed": false,
     "input": [
      "m.remove_layer(cm)"
     ],
     "language": "python",
     "metadata": {},
     "outputs": [],
     "prompt_number": 9
    },
    {
     "cell_type": "code",
     "collapsed": false,
     "input": [
      "cm.close()"
     ],
     "language": "python",
     "metadata": {},
     "outputs": [],
     "prompt_number": 10
    },
    {
     "cell_type": "heading",
     "level": 2,
     "metadata": {},
     "source": [
      "Multiple Circles"
     ]
    },
    {
     "cell_type": "code",
     "collapsed": false,
     "input": [
      "circles = []\n",
      "for pos in m.bounding_polygon:\n",
      "    c = Circle(location=pos, radius=1000)\n",
      "    circles.append(c)\n",
      "    m.add_layer(c)"
     ],
     "language": "python",
     "metadata": {},
     "outputs": []
    },
    {
     "cell_type": "code",
     "collapsed": false,
     "input": [
      "for c in circles:\n",
      "    m.remove_layer(c)"
     ],
     "language": "python",
     "metadata": {},
     "outputs": []
    },
    {
     "cell_type": "heading",
     "level": 2,
     "metadata": {},
     "source": [
      "Polygon"
     ]
    },
    {
     "cell_type": "code",
     "collapsed": false,
     "input": [
      "p = Polygon(locations=m.bounding_polygon, weight=2,\n",
      "            color='#F00', opacity=1.0, fill_opacity=1.0,\n",
      "            fill_color='#0F0')\n",
      "m.add_layer(p)"
     ],
     "language": "python",
     "metadata": {},
     "outputs": [],
     "prompt_number": 11
    },
    {
     "cell_type": "code",
     "collapsed": false,
     "input": [
      "m.remove_layer(p)"
     ],
     "language": "python",
     "metadata": {},
     "outputs": [],
     "prompt_number": 12
    },
    {
     "cell_type": "code",
     "collapsed": false,
     "input": [
      "p.close()"
     ],
     "language": "python",
     "metadata": {},
     "outputs": [],
     "prompt_number": 13
    },
    {
     "cell_type": "heading",
     "level": 2,
     "metadata": {},
     "source": [
      "GeoJSON"
     ]
    },
    {
     "cell_type": "code",
     "collapsed": false,
     "input": [
      "import matplotlib as mpl\n",
      "import matplotlib.cm\n",
      "import matplotlib.colors\n",
      "import numpy as np\n",
      "\n",
      "def n_colors(n, colormap=mpl.cm.Blues):\n",
      "    data = np.linspace(0.0,1.0,n)\n",
      "    c = [mpl.colors.rgb2hex(d[0:3]) for d in colormap(data)]\n",
      "    return c\n",
      "\n",
      "def data_to_colors(data, colormap=mpl.cm.Blues):\n",
      "    c = [mpl.colors.rgb2hex(d[0:3]) for d in colormap(mpl.colors.Normalize()(data))]\n",
      "    return c"
     ],
     "language": "python",
     "metadata": {},
     "outputs": [],
     "prompt_number": 5
    },
    {
     "cell_type": "code",
     "collapsed": false,
     "input": [
      "import json\n",
      "with open('demo.json') as f:\n",
      "    data = json.load(f)"
     ],
     "language": "python",
     "metadata": {},
     "outputs": [],
     "prompt_number": 6
    },
    {
     "cell_type": "code",
     "collapsed": false,
     "input": [
      "n_features = len(data['features'])\n",
      "colors = n_colors(n_features)\n",
      "print n_features"
     ],
     "language": "python",
     "metadata": {},
     "outputs": [
      {
       "output_type": "stream",
       "stream": "stdout",
       "text": [
        "20\n"
       ]
      }
     ],
     "prompt_number": 7
    },
    {
     "cell_type": "code",
     "collapsed": false,
     "input": [
      "for feature, color in zip(data['features'], colors):\n",
      "    feature['properties']['style'] = {'color':color, 'weight': 1, 'fillColor':color, 'fillOpacity':0.5}"
     ],
     "language": "python",
     "metadata": {},
     "outputs": [],
     "prompt_number": 10
    },
    {
     "cell_type": "code",
     "collapsed": false,
     "input": [
      "data['features'][0]"
     ],
     "language": "python",
     "metadata": {},
     "outputs": [
      {
       "metadata": {},
       "output_type": "pyout",
       "prompt_number": 11,
       "text": [
        "{u'geometry': {u'coordinates': [[[[-77.39940577291571, 34.5780540544853],\n",
        "     [-77.39940610066606, 34.57805427015046],\n",
        "     [-77.39940640189788, 34.57805446836596],\n",
        "     [-77.39940680648922, 34.57805473459376],\n",
        "     [-77.39940687019617, 34.57805477651398],\n",
        "     [-77.39940689381065, 34.57805472199389],\n",
        "     [-77.3994073308358, 34.57805432604519],\n",
        "     [-77.39940731720131, 34.578054179242265],\n",
        "     [-77.39940728534575, 34.578053836252096],\n",
        "     [-77.39940728147378, 34.57805380828763],\n",
        "     [-77.39940726378504, 34.57805363205166],\n",
        "     [-77.39940725501071, 34.57805361742678],\n",
        "     [-77.39940719593868, 34.57805349818902],\n",
        "     [-77.39940711258689, 34.57805350039165],\n",
        "     [-77.39940706262787, 34.57805349996589],\n",
        "     [-77.3994070238417, 34.578053501157314],\n",
        "     [-77.39940689549977, 34.57805350509971],\n",
        "     [-77.3994068702403, 34.5780535173504],\n",
        "     [-77.39940683257294, 34.57805352755014],\n",
        "     [-77.39940665584797, 34.57805351246129],\n",
        "     [-77.39940650171212, 34.578053517196004],\n",
        "     [-77.39940646539253, 34.578053518311656],\n",
        "     [-77.39940610067742, 34.578053945657025]]]],\n",
        "  u'type': u'MultiPolygon'},\n",
        " u'id': u'demo0',\n",
        " u'properties': {'style': {'color': '#f7fbff',\n",
        "   'fillColor': '#f7fbff',\n",
        "   'fillOpacity': 0.5,\n",
        "   'weight': 1}},\n",
        " u'type': u'Feature'}"
       ]
      }
     ],
     "prompt_number": 11
    },
    {
     "cell_type": "code",
     "collapsed": false,
     "input": [
      "g = GeoJSON(data=data)"
     ],
     "language": "python",
     "metadata": {},
     "outputs": [],
     "prompt_number": 12
    },
    {
     "cell_type": "code",
     "collapsed": false,
     "input": [
      "m.add_layer(g)"
     ],
     "language": "python",
     "metadata": {},
     "outputs": [],
     "prompt_number": 15
    },
    {
     "cell_type": "code",
     "collapsed": false,
     "input": [
      "m.remove_layer(g)"
     ],
     "language": "python",
     "metadata": {},
     "outputs": [],
     "prompt_number": 14
    },
    {
     "cell_type": "code",
     "collapsed": false,
     "input": [
      "g.close()"
     ],
     "language": "python",
     "metadata": {},
     "outputs": [],
     "prompt_number": 11
    },
    {
     "cell_type": "code",
     "collapsed": false,
     "input": [],
     "language": "python",
     "metadata": {},
     "outputs": []
    }
   ],
   "metadata": {}
  }
 ]
}