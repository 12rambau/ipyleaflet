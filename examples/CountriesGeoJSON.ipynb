{
 "cells": [
  {
   "cell_type": "code",
   "execution_count": null,
   "metadata": {
    "collapsed": false
   },
   "outputs": [],
   "source": [
    "# json\n",
    "import json\n",
    "\n",
    "# widgets\n",
    "import ipyleaflet as ll"
   ]
  },
  {
   "cell_type": "code",
   "execution_count": null,
   "metadata": {
    "collapsed": false
   },
   "outputs": [],
   "source": [
    "import sys, os, time\n",
    "\n",
    "map = ll.Map(center=[53.88,27.45], zoom=4)\n",
    "\n",
    "with open('./europe_110.geo.json') as f:\n",
    "    data = json.load(f)\n",
    "\n",
    "for feature in data['features']:\n",
    "    feature['properties']['style'] = {\n",
    "        'color': 'grey',\n",
    "        'weight': 1,\n",
    "        'fillColor': 'grey',\n",
    "        'fillOpacity': 0.5\n",
    "    }\n",
    "\n",
    "layer = ll.GeoJSON(data=data, hover_style={'fillColor': 'red'})\n",
    "\n",
    "def hover_handler(event=None, id=None, properties=None):\n",
    "    sys.stdout.write(\"\\r\" + properties['geounit'])\n",
    "    sys.stdout.flush()\n",
    "    \n",
    "layer.on_hover(hover_handler)\n",
    "    \n",
    "map.add_layer(layer)\n",
    "\n",
    "map"
   ]
  }
 ],
 "metadata": {
  "kernelspec": {
   "display_name": "Python 2",
   "language": "python",
   "name": "python2"
  },
  "language_info": {
   "codemirror_mode": {
    "name": "ipython",
    "version": 2
   },
   "file_extension": ".py",
   "mimetype": "text/x-python",
   "name": "python",
   "nbconvert_exporter": "python",
   "pygments_lexer": "ipython2",
   "version": "2.7.11"
  },
  "widgets": {
   "state": {
    "0606e75e2118483a906bd7819d411939": {
     "views": []
    },
    "31a555175482408e8ecf904fcdb6f246": {
     "views": []
    },
    "4427d8010d204767b2981c289ebf2eb0": {
     "views": []
    },
    "721e85588e8848c49c509cb85d975f2a": {
     "views": []
    },
    "7d83fb1b5bad4f07b458d7eb8c47bc23": {
     "views": []
    },
    "8f1d194d973447ec840eb9be96cb1e8f": {
     "views": []
    },
    "9d99ca7219544b65ac3c865c225dffe4": {
     "views": []
    },
    "a632aefd5722468188b422bf3f5fc10c": {
     "views": []
    },
    "ab90e3f271d74002802ab7c072c96594": {
     "views": []
    },
    "c831f6a79b5047a3a5326c48a54e5843": {
     "views": []
    },
    "cbdafba7b44c480ba0e82e35e717ff24": {
     "views": []
    },
    "d16971aa265c4f3a85d32b0c043b0e42": {
     "views": []
    },
    "d3e3d1cd8c7642308604c21511a81cb1": {
     "views": []
    },
    "e5254dd4946940f5adb9720e6a31b303": {
     "views": []
    },
    "ec910642d1244aeeb8e53e961f2ed19f": {
     "views": []
    },
    "f1b4e3cacc6341158cd0451c9f84d421": {
     "views": []
    },
    "f4d042f3139f4544926ee31703294272": {
     "views": [
      {
       "cell": {
        "cell_type": "code",
        "execution_count": null,
        "metadata": {
         "collapsed": false,
         "trusted": true
        },
        "outputs": [],
        "source": "import sys, os, time\n\nmap = ll.Map(center=[53.88,27.45], zoom=4)\n\nwith open('./europe_110.geo.json') as f:\n    data = json.load(f)\n\nfor feature in data['features']:\n    feature['properties']['style'] = {\n        'color': 'grey',\n        'weight': 1,\n        'fillColor': 'grey',\n        'fillOpacity': 0.5\n    }\n\nlayer = ll.GeoJSON(data=data, hover_style={'fillColor': 'red'})\n\ndef hover_handler(event=None, id=None, properties=None):\n    sys.stdout.write(\"\\r\" + properties['geounit'])\n    sys.stdout.flush()\n    \nlayer.on_hover(hover_handler)\n    \nmap.add_layer(layer)\n\nmap"
       },
       "cell_index": 1,
       "root": true
      }
     ]
    },
    "f8b3a82ed4c4404ba7936b86dd5a9f34": {
     "views": []
    },
    "faa6ee3a6fab4f0dbf59aedfe68b0b1e": {
     "views": []
    },
    "fe98fb0260d64046b1c7376bb69a0cff": {
     "views": []
    }
   },
   "version": "1.0.0"
  }
 },
 "nbformat": 4,
 "nbformat_minor": 0
}
