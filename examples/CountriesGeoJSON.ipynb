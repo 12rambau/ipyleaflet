{
 "cells": [
  {
   "cell_type": "code",
   "execution_count": 3,
   "metadata": {
    "collapsed": false
   },
   "outputs": [],
   "source": [
    "# json\n",
    "import json\n",
    "\n",
    "# widgets\n",
    "import ipyleaflet as ll"
   ]
  },
  {
   "cell_type": "code",
   "execution_count": 5,
   "metadata": {
    "collapsed": false
   },
   "outputs": [
    {
     "name": "stdout",
     "output_type": "stream",
     "text": [
      "Chile\n",
      "Argentina\n",
      "Chile\n",
      "Argentina\n",
      "Brazil\n",
      "Namibia\n",
      "Angola\n",
      "Democratic Republic of the Congo\n",
      "Rwanda\n",
      "Tanzania\n",
      "Kenya\n",
      "Ethiopia\n",
      "South Sudan\n",
      "Sudan\n",
      "Chad\n",
      "Libya\n",
      "Tunisia\n",
      "Algeria\n",
      "France\n",
      "Italy\n",
      "Switzerland\n",
      "France\n",
      "Switzerland\n",
      "Italy\n",
      "Italy\n",
      "Italy\n",
      "Italy\n",
      "France\n",
      "France\n",
      "Italy\n",
      "Algeria\n",
      "Morocco\n",
      "Colombia\n",
      "United States of America\n",
      "Ireland\n",
      "United Kingdom\n",
      "France\n",
      "Italy\n",
      "Italy\n",
      "France\n",
      "France\n",
      "France\n",
      "France\n"
     ]
    }
   ],
   "source": [
    "import sys, os, time\n",
    "\n",
    "map = ll.Map(zoom=2)\n",
    "\n",
    "with open('./custom_110.geo.json') as f:\n",
    "    data = json.load(f)\n",
    "\n",
    "for feature in data['features']:\n",
    "    feature['properties']['style'] = {\n",
    "        'color': 'grey',\n",
    "        'weight': 1,\n",
    "        'fillColor': 'grey',\n",
    "        'fillOpacity': 0.5\n",
    "    }\n",
    "\n",
    "layer = ll.GeoJSON(data=data, hover_style={'fillColor': 'red'})\n",
    "\n",
    "def hover_handler(event=None, id=None, properties=None):\n",
    "    print properties['geounit']\n",
    "\n",
    "layer.on_hover(hover_handler)\n",
    "    \n",
    "map.add_layer(layer)\n",
    "\n",
    "map"
   ]
  },
  {
   "cell_type": "code",
   "execution_count": null,
   "metadata": {
    "collapsed": true
   },
   "outputs": [],
   "source": []
  },
  {
   "cell_type": "code",
   "execution_count": null,
   "metadata": {
    "collapsed": true
   },
   "outputs": [],
   "source": []
  }
 ],
 "metadata": {
  "kernelspec": {
   "display_name": "Python 2",
   "language": "python",
   "name": "python2"
  },
  "language_info": {
   "codemirror_mode": {
    "name": "ipython",
    "version": 2
   },
   "file_extension": ".py",
   "mimetype": "text/x-python",
   "name": "python",
   "nbconvert_exporter": "python",
   "pygments_lexer": "ipython2",
   "version": "2.7.11"
  },
  "widgets": {
   "state": {
    "238e5812f5dc4adc82aa02d809e8ada1": {
     "views": []
    },
    "25719decdd114b35860f8b8d65a9c08f": {
     "views": []
    },
    "280817853fe54e8fa0262e09c6996892": {
     "views": []
    },
    "3bea21cd623f41e484ba81ce8ad7a1c0": {
     "views": []
    },
    "3dd5c38fea4b44a6874aa80f8b3af950": {
     "views": []
    },
    "59b53fae881a4da380118e624aaf6b3a": {
     "views": []
    },
    "a1a6e5a22b1a4f8ebfc37a51ef6fbc2d": {
     "views": []
    },
    "dc3567b62f0f416a8250aec4529b1e8b": {
     "views": [
      {
       "cell": {
        "cell_type": "code",
        "execution_count": 5,
        "metadata": {
         "collapsed": false,
         "trusted": true
        },
        "outputs": [
         {
          "name": "stdout",
          "output_type": "stream",
          "text": "Chile\nArgentina\nChile\nArgentina\nBrazil\nNamibia\nAngola\nDemocratic Republic of the Congo\nRwanda\nTanzania\nKenya\nEthiopia\nSouth Sudan\nSudan\nChad\nLibya\nTunisia\nAlgeria\nFrance\nItaly\nSwitzerland\nFrance\nSwitzerland\nItaly\nItaly\nItaly\nItaly\nFrance\nFrance\nItaly\nAlgeria\nMorocco\nColombia\nUnited States of America\nIreland\nUnited Kingdom\nFrance\nItaly\nItaly\nFrance\nFrance\nFrance\nFrance\n"
         }
        ],
        "source": "import sys, os, time\n\nmap = ll.Map(zoom=2)\n\nwith open('./custom_110.geo.json') as f:\n    data = json.load(f)\n\nfor feature in data['features']:\n    feature['properties']['style'] = {\n        'color': 'grey',\n        'weight': 1,\n        'fillColor': 'grey',\n        'fillOpacity': 0.5\n    }\n\nlayer = ll.GeoJSON(data=data, hover_style={'fillColor': 'red'})\n\ndef hover_handler(event=None, id=None, properties=None):\n    print properties['geounit']\n\nlayer.on_hover(hover_handler)\n    \nmap.add_layer(layer)\n\nmap"
       },
       "cell_index": 1,
       "root": true
      }
     ]
    }
   },
   "version": "1.0.0"
  }
 },
 "nbformat": 4,
 "nbformat_minor": 0
}
