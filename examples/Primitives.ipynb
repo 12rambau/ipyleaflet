{
 "cells": [
  {
   "cell_type": "code",
   "execution_count": null,
   "metadata": {
    "collapsed": false
   },
   "outputs": [],
   "source": [
    "from ipyleaflet import (\n",
    "    Map,\n",
    "    Marker,\n",
    "    TileLayer, ImageOverlay,\n",
    "    Polyline, Polygon, Rectangle, Circle, CircleMarker,\n",
    "    GeoJSON,\n",
    "    DrawControl\n",
    ")"
   ]
  },
  {
   "cell_type": "markdown",
   "metadata": {},
   "source": [
    "## Map"
   ]
  },
  {
   "cell_type": "code",
   "execution_count": null,
   "metadata": {
    "collapsed": false
   },
   "outputs": [],
   "source": [
    "center = [34.6252978589571, -77.34580993652344]\n",
    "zoom = 10"
   ]
  },
  {
   "cell_type": "code",
   "execution_count": null,
   "metadata": {
    "collapsed": false
   },
   "outputs": [],
   "source": [
    "m = Map(default_tiles=TileLayer(opacity=1.0), center=center, zoom=zoom)\n",
    "m"
   ]
  },
  {
   "cell_type": "code",
   "execution_count": null,
   "metadata": {
    "collapsed": false
   },
   "outputs": [],
   "source": [
    "m.interact(zoom=(5,10,1))"
   ]
  },
  {
   "cell_type": "code",
   "execution_count": null,
   "metadata": {
    "collapsed": false
   },
   "outputs": [],
   "source": [
    "m.remove_layer(m.default_tiles)"
   ]
  },
  {
   "cell_type": "code",
   "execution_count": null,
   "metadata": {
    "collapsed": false
   },
   "outputs": [],
   "source": [
    "m.add_layer(m.default_tiles)"
   ]
  },
  {
   "cell_type": "code",
   "execution_count": null,
   "metadata": {
    "collapsed": false
   },
   "outputs": [],
   "source": [
    "m.model_id"
   ]
  },
  {
   "cell_type": "code",
   "execution_count": null,
   "metadata": {
    "collapsed": false
   },
   "outputs": [],
   "source": [
    "print m.center\n",
    "print m.zoom\n",
    "print m.bounds"
   ]
  },
  {
   "cell_type": "markdown",
   "metadata": {},
   "source": [
    "## Marker"
   ]
  },
  {
   "cell_type": "code",
   "execution_count": null,
   "metadata": {
    "collapsed": false
   },
   "outputs": [],
   "source": [
    "mark = Marker(location=m.center)"
   ]
  },
  {
   "cell_type": "code",
   "execution_count": null,
   "metadata": {
    "collapsed": false
   },
   "outputs": [],
   "source": [
    "mark.visible"
   ]
  },
  {
   "cell_type": "code",
   "execution_count": null,
   "metadata": {
    "collapsed": false
   },
   "outputs": [],
   "source": [
    "m += mark"
   ]
  },
  {
   "cell_type": "code",
   "execution_count": null,
   "metadata": {
    "collapsed": false
   },
   "outputs": [],
   "source": [
    "mark.interact(opacity=(0.0,1.0,0.01))"
   ]
  },
  {
   "cell_type": "code",
   "execution_count": null,
   "metadata": {
    "collapsed": false
   },
   "outputs": [],
   "source": [
    "mark.visible"
   ]
  },
  {
   "cell_type": "code",
   "execution_count": null,
   "metadata": {
    "collapsed": false
   },
   "outputs": [],
   "source": [
    "mark.visible = False"
   ]
  },
  {
   "cell_type": "markdown",
   "metadata": {},
   "source": [
    "## Image Overlay"
   ]
  },
  {
   "cell_type": "code",
   "execution_count": null,
   "metadata": {
    "collapsed": false
   },
   "outputs": [],
   "source": [
    "io = ImageOverlay(url='http://ipython.org/_static/IPy_header.png', bounds=m.bounds)\n",
    "m.add_layer(io)"
   ]
  },
  {
   "cell_type": "code",
   "execution_count": null,
   "metadata": {
    "collapsed": false
   },
   "outputs": [],
   "source": [
    "m.remove_layer(io)"
   ]
  },
  {
   "cell_type": "markdown",
   "metadata": {},
   "source": [
    "## Polyline"
   ]
  },
  {
   "cell_type": "code",
   "execution_count": null,
   "metadata": {
    "collapsed": false
   },
   "outputs": [],
   "source": [
    "pl = Polyline(locations=m.bounds_polygon)\n",
    "m += pl"
   ]
  },
  {
   "cell_type": "code",
   "execution_count": null,
   "metadata": {
    "collapsed": false
   },
   "outputs": [],
   "source": [
    "pl.fill_color = '#F00'\n",
    "pl.fill_opacity = 1.0"
   ]
  },
  {
   "cell_type": "code",
   "execution_count": null,
   "metadata": {
    "collapsed": false
   },
   "outputs": [],
   "source": [
    "m -= pl"
   ]
  },
  {
   "cell_type": "markdown",
   "metadata": {},
   "source": [
    "## Polygon"
   ]
  },
  {
   "cell_type": "code",
   "execution_count": null,
   "metadata": {
    "collapsed": false
   },
   "outputs": [],
   "source": [
    "pg = Polygon(locations=m.bounds_polygon, weight=3,\n",
    "            color='#F00', opacity=0.8, fill_opacity=0.8,\n",
    "            fill_color='#0F0')\n",
    "m += pg"
   ]
  },
  {
   "cell_type": "code",
   "execution_count": null,
   "metadata": {
    "collapsed": false
   },
   "outputs": [],
   "source": [
    "m -= pg"
   ]
  },
  {
   "cell_type": "markdown",
   "metadata": {},
   "source": [
    "## Rectangle"
   ]
  },
  {
   "cell_type": "code",
   "execution_count": null,
   "metadata": {
    "collapsed": false
   },
   "outputs": [],
   "source": [
    "r = Rectangle(bounds=m.bounds, weight=10, fill_opacity=0.0)\n",
    "m += r"
   ]
  },
  {
   "cell_type": "code",
   "execution_count": null,
   "metadata": {
    "collapsed": false
   },
   "outputs": [],
   "source": [
    "m -= r"
   ]
  },
  {
   "cell_type": "markdown",
   "metadata": {},
   "source": [
    "## Circle"
   ]
  },
  {
   "cell_type": "code",
   "execution_count": null,
   "metadata": {
    "collapsed": false
   },
   "outputs": [],
   "source": [
    "c = Circle(location=m.center)\n",
    "m.add_layer(c)"
   ]
  },
  {
   "cell_type": "code",
   "execution_count": null,
   "metadata": {
    "collapsed": false
   },
   "outputs": [],
   "source": [
    "c.interact(weight=(0,10,1), opacity=(0.0,1.0,0.01))"
   ]
  },
  {
   "cell_type": "code",
   "execution_count": null,
   "metadata": {
    "collapsed": false
   },
   "outputs": [],
   "source": [
    "c.model_id"
   ]
  },
  {
   "cell_type": "code",
   "execution_count": null,
   "metadata": {
    "collapsed": false
   },
   "outputs": [],
   "source": [
    "m.remove_layer(c)"
   ]
  },
  {
   "cell_type": "code",
   "execution_count": null,
   "metadata": {
    "collapsed": false
   },
   "outputs": [],
   "source": [
    "c.close()"
   ]
  },
  {
   "cell_type": "code",
   "execution_count": null,
   "metadata": {
    "collapsed": false
   },
   "outputs": [],
   "source": [
    "m.layers"
   ]
  },
  {
   "cell_type": "code",
   "execution_count": null,
   "metadata": {
    "collapsed": false
   },
   "outputs": [],
   "source": [
    "c2 = Circle(location=m.center, radius=30, weight=1,\n",
    "            color='#F00', opacity=1.0, fill_opacity=1.0,\n",
    "            fill_color='#0F0')\n",
    "m.add_layer(c2)"
   ]
  },
  {
   "cell_type": "code",
   "execution_count": null,
   "metadata": {
    "collapsed": false
   },
   "outputs": [],
   "source": [
    "c2.model_id"
   ]
  },
  {
   "cell_type": "code",
   "execution_count": null,
   "metadata": {
    "collapsed": false
   },
   "outputs": [],
   "source": [
    "m.remove_layer(c2)"
   ]
  },
  {
   "cell_type": "code",
   "execution_count": null,
   "metadata": {
    "collapsed": false
   },
   "outputs": [],
   "source": [
    "c2.close()"
   ]
  },
  {
   "cell_type": "markdown",
   "metadata": {},
   "source": [
    "## CircleMarker"
   ]
  },
  {
   "cell_type": "code",
   "execution_count": null,
   "metadata": {
    "collapsed": false
   },
   "outputs": [],
   "source": [
    "cm = CircleMarker(location=m.center, radius=30, weight=2,\n",
    "                  color='#F00', opacity=1.0, fill_opacity=1.0,\n",
    "                  fill_color='#0F0')\n",
    "m.add_layer(cm)"
   ]
  },
  {
   "cell_type": "code",
   "execution_count": null,
   "metadata": {
    "collapsed": false
   },
   "outputs": [],
   "source": [
    "cm.model_id"
   ]
  },
  {
   "cell_type": "code",
   "execution_count": null,
   "metadata": {
    "collapsed": false
   },
   "outputs": [],
   "source": [
    "m.remove_layer(cm)"
   ]
  },
  {
   "cell_type": "code",
   "execution_count": null,
   "metadata": {
    "collapsed": false
   },
   "outputs": [],
   "source": [
    "cm.close()"
   ]
  },
  {
   "cell_type": "markdown",
   "metadata": {},
   "source": [
    "## Multiple Circles"
   ]
  },
  {
   "cell_type": "code",
   "execution_count": null,
   "metadata": {
    "collapsed": false
   },
   "outputs": [],
   "source": [
    "circles = []\n",
    "for pos in m.bounding_polygon:\n",
    "    c = Circle(location=pos, radius=1000)\n",
    "    circles.append(c)\n",
    "    m.add_layer(c)"
   ]
  },
  {
   "cell_type": "code",
   "execution_count": null,
   "metadata": {
    "collapsed": false
   },
   "outputs": [],
   "source": [
    "for c in circles:\n",
    "    m.remove_layer(c)"
   ]
  },
  {
   "cell_type": "code",
   "execution_count": null,
   "metadata": {
    "collapsed": false
   },
   "outputs": [],
   "source": [
    "m.remove_layer(p)"
   ]
  },
  {
   "cell_type": "code",
   "execution_count": null,
   "metadata": {
    "collapsed": false
   },
   "outputs": [],
   "source": [
    "p.close()"
   ]
  }
 ],
 "metadata": {
  "kernelspec": {
   "display_name": "Python 2",
   "language": "python",
   "name": "python2"
  },
  "language_info": {
   "codemirror_mode": {
    "name": "ipython",
    "version": 2
   },
   "file_extension": ".py",
   "mimetype": "text/x-python",
   "name": "python",
   "nbconvert_exporter": "python",
   "pygments_lexer": "ipython2",
   "version": "2.7.11"
  },
  "widgets": {
   "state": {
    "0c8f71ba583f4056895c2993b1d56dfb": {
     "views": [
      {
       "cell": {
        "cell_type": "code",
        "execution_count": null,
        "metadata": {
         "collapsed": false,
         "trusted": true
        },
        "outputs": [],
        "source": "c.interact(weight=(0,10,1), opacity=(0.0,1.0,0.01))"
       },
       "cell_index": 31,
       "root": true
      }
     ]
    },
    "1776d748c8294640a987b4815a396eed": {
     "views": [
      {
       "cell": {
        "cell_type": "code",
        "execution_count": null,
        "metadata": {
         "collapsed": false,
         "trusted": true
        },
        "outputs": [],
        "source": "m.interact(zoom=(5,10,1))"
       },
       "cell_index": 4,
       "root": true
      }
     ]
    },
    "1aa3513b9638462e816bbdb55fbb6c30": {
     "views": []
    },
    "1cf264178e7d4eaeba433308ee6e48aa": {
     "views": []
    },
    "2dc4edfaa83d41959d8d26370f9bcd71": {
     "views": []
    },
    "2ecb8a68dcb149968bb0095c43678d14": {
     "views": []
    },
    "39e2586e44054f5c8f308c56b071a293": {
     "views": []
    },
    "413a9a0f7d27480dadca2c3044fbe095": {
     "views": []
    },
    "475028648a4b4602a8440bd969db6891": {
     "views": []
    },
    "495894ff28b64d6daa639d3b95d88eb1": {
     "views": []
    },
    "5a8bfa311b6f4b27809b0450334e7ecc": {
     "views": []
    },
    "602eddff368045e791bd35cc7a754e60": {
     "views": []
    },
    "6370ad37c4844f14b65e0b974ea3c3fc": {
     "views": []
    },
    "759c4d156e2f48f8b8b8f52a346db0d5": {
     "views": [
      {
       "cell": {
        "cell_type": "code",
        "execution_count": null,
        "metadata": {
         "collapsed": false,
         "trusted": true
        },
        "outputs": [],
        "source": "mark.interact(opacity=(0.0,1.0,0.01))"
       },
       "cell_index": 13,
       "root": true
      }
     ]
    },
    "775c65a2105e4f538ee6fb157f1d14d8": {
     "views": []
    },
    "7acd0b2519c947de95573dbc6c16fe76": {
     "views": []
    },
    "86356f510fa944e787ee84a204e7d2e7": {
     "views": []
    },
    "a4a070450f1144e098143a2f2bdede27": {
     "views": []
    },
    "ab0f3f5f10be43538cf78652635a7651": {
     "views": []
    },
    "b77ee03ccd724dfb9049291fcc6cdb9f": {
     "views": []
    },
    "ba1627bdfd224ac2aa1332d0c2794390": {
     "views": []
    },
    "c4a1696dbbd54344aa95b8cd6dee97fe": {
     "views": []
    },
    "c7b22b5b558d4762a505921cf7d7eda9": {
     "views": []
    },
    "ca62c0721f404bdd8df22e5e1408a0df": {
     "views": [
      {
       "cell": {
        "cell_type": "code",
        "execution_count": null,
        "metadata": {
         "collapsed": false,
         "trusted": true
        },
        "outputs": [],
        "source": "m = Map(default_tiles=TileLayer(opacity=1.0), center=center, zoom=zoom)\nm"
       },
       "cell_index": 3,
       "root": true
      }
     ]
    },
    "e71668f5114a4707b6c6862684b1b70e": {
     "views": []
    },
    "e8d8e78471834fd2a746085785f7e002": {
     "views": []
    },
    "f7c6841017f344aea1d6e08ec3c0a0b6": {
     "views": []
    },
    "fb4ff203b74847418faf178943960655": {
     "views": []
    }
   },
   "version": "0.3.0"
  }
 },
 "nbformat": 4,
 "nbformat_minor": 1
}
